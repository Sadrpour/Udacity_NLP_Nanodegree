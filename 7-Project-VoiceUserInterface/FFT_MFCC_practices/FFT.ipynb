{
 "cells": [
  {
   "cell_type": "code",
   "execution_count": 1,
   "metadata": {},
   "outputs": [],
   "source": [
    "import numpy as np\n",
    "import scipy.fftpack\n",
    "import utils as utils\n",
    "\n",
    "N=500\n",
    "range_of_time = 5.0\n",
    "T = 0.01\n",
    "f = 100\n",
    "\n",
    "def choose_frequencies():\n",
    "    \"\"\"\n",
    "    # provide three frequencies in a range between 1 and 50\n",
    "    :return: [int, int, int]\n",
    "    \"\"\"\n",
    "    # *** TODO provide three frequencies between 1 and 50\n",
    "    freq1 = 5\n",
    "    freq2 = 10\n",
    "    freq3 = 20\n",
    "    # end TODO\n",
    "\n",
    "    return [freq1, freq2, freq3]\n",
    "\n",
    "\n",
    "def add_the_waves(freqs):\n",
    "    \"\"\"\n",
    "    create three sinusoidal waves and one wave that is the sum of the three\n",
    "    :param freqs: [int, int, int]\n",
    "    :return: [np.array, np.array, np.array, np.array]\n",
    "        representing wave1, wave2, wave3, sum of waves\n",
    "        each array contains 500(by default) discrete values for plotting a sinusoidal\n",
    "    \"\"\"\n",
    "    _, _, t = utils.get_wave_timing()\n",
    "    w1, w2, w3 = utils.make_waves(t, freqs)\n",
    "\n",
    "    # TODO sum the waves together to form sum_waves\n",
    "    sum_waves = w1 + w2 + w3\n",
    "\n",
    "\n",
    "    return [w1, w2, w3, sum_waves]\n",
    "\n",
    "\n",
    "def demo_fft(sum_waves):\n",
    "    num_samples, spacing, _ = utils.get_wave_timing()\n",
    "    print(\"period:\", spacing)\n",
    "    print(\"number of samples:\", num_samples)\n",
    "    # TODO create a Fast Fourier Transform of the waveform using scipy.fftpack.fft\n",
    "    # named 'y_fft'\n",
    "    y_fft = scipy.fftpack.fft(sum_waves)\n",
    "\n",
    "\n",
    "    x_fft = np.linspace(0.0, 1.0/(spacing*2), num_samples//2)\n",
    "    return x_fft, y_fft"
   ]
  },
  {
   "cell_type": "code",
   "execution_count": 2,
   "metadata": {},
   "outputs": [
    {
     "name": "stdout",
     "output_type": "stream",
     "text": [
      "period: 0.01\n",
      "number of samples: 500\n"
     ]
    }
   ],
   "source": [
    "freqs = choose_frequencies()\n",
    "[w1, w2, w3, sum_waves] = add_the_waves(freqs)\n",
    "x_fft, y_fft = demo_fft(sum_waves)"
   ]
  },
  {
   "cell_type": "code",
   "execution_count": 3,
   "metadata": {},
   "outputs": [],
   "source": [
    "# this fuction does not even work \n",
    "# fig = utils.display_sinusoids(x_fft, w1, w2, w3, sum_waves)"
   ]
  },
  {
   "cell_type": "code",
   "execution_count": 5,
   "metadata": {},
   "outputs": [
    {
     "data": {
      "image/png": "[encoded data removed]",
      "text/plain": [
       "<Figure size 432x288 with 1 Axes>"
      ]
     },
     "metadata": {},
     "output_type": "display_data"
    }
   ],
   "source": [
    "%matplotlib inline\n",
    "fig = utils.display_fft(x_fft, y_fft)"
   ]
  }
 ],
 "metadata": {
  "kernelspec": {
   "display_name": "Python 3",
   "language": "python",
   "name": "python3"
  },
  "language_info": {
   "codemirror_mode": {
    "name": "ipython",
    "version": 3
   },
   "file_extension": ".py",
   "mimetype": "text/x-python",
   "name": "python",
   "nbconvert_exporter": "python",
   "pygments_lexer": "ipython3",
   "version": "3.5.5"
  }
 },
 "nbformat": 4,
 "nbformat_minor": 2
}
