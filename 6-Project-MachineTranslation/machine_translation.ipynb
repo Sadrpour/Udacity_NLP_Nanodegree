{
 "cells": [
  {
   "cell_type": "markdown",
   "metadata": {
    "collapsed": true
   },
   "source": [
    "# Artificial Intelligence Nanodegree\n",
    "## Machine Translation Project\n",
    "In this notebook, sections that end with **'(IMPLEMENTATION)'** in the header indicate that the following blocks of code will require additional functionality which you must provide. Please be sure to read the instructions carefully!\n",
    "\n",
    "## Introduction\n",
    "In this notebook, you will build a deep neural network that functions as part of an end-to-end machine translation pipeline. Your completed pipeline will accept English text as input and return the French translation.\n",
    "\n",
    "- **Preprocess** - You'll convert text to sequence of integers.\n",
    "- **Models** Create models which accepts a sequence of integers as input and returns a probability distribution over possible translations. After learning about the basic types of neural networks that are often used for machine translation, you will engage in your own investigations, to design your own model!\n",
    "- **Prediction** Run the model on English text."
   ]
  },
  {
   "cell_type": "code",
   "execution_count": 1,
   "metadata": {},
   "outputs": [
    {
     "data": {
      "text/html": [
       "<style>.container { width:100% !important; }</style>"
      ],
      "text/plain": [
       "<IPython.core.display.HTML object>"
      ]
     },
     "metadata": {},
     "output_type": "display_data"
    }
   ],
   "source": [
    "%load_ext autoreload\n",
    "%aimport helper, tests\n",
    "%autoreload 1\n",
    "from IPython.core.display import display, HTML\n",
    "display(HTML(\"<style>.container { width:100% !important; }</style>\"))"
   ]
  },
  {
   "cell_type": "code",
   "execution_count": 2,
   "metadata": {},
   "outputs": [
    {
     "name": "stderr",
     "output_type": "stream",
     "text": [
      "/app/local/anaconda3/lib/python3.6/site-packages/h5py/__init__.py:36: FutureWarning: Conversion of the second argument of issubdtype from `float` to `np.floating` is deprecated. In future, it will be treated as `np.float64 == np.dtype(float).type`.\n",
      "  from ._conv import register_converters as _register_converters\n",
      "Using TensorFlow backend.\n"
     ]
    }
   ],
   "source": [
    "import collections\n",
    "\n",
    "import helper\n",
    "import numpy as np\n",
    "import project_tests as tests\n",
    "from keras.models import load_model\n",
    "from keras.preprocessing.text import Tokenizer\n",
    "from keras.preprocessing.sequence import pad_sequences\n",
    "from keras.models import Model\n",
    "from keras.layers import GRU, Input, Dense, TimeDistributed, Activation, RepeatVector, Bidirectional\n",
    "from keras.layers.embeddings import Embedding\n",
    "from keras.optimizers import Adam\n",
    "from keras.losses import sparse_categorical_crossentropy"
   ]
  },
  {
   "cell_type": "markdown",
   "metadata": {},
   "source": [
    "### Verify access to the GPU\n",
    "The following test applies only if you expect to be using a GPU, e.g., while running in a Udacity Workspace or using an AWS instance with GPU support. Run the next cell, and verify that the device_type is \"GPU\".\n",
    "- If the device is not GPU & you are running from a Udacity Workspace, then save your workspace with the icon at the top, then click \"enable\" at the bottom of the workspace.\n",
    "- If the device is not GPU & you are running from an AWS instance, then refer to the cloud computing instructions in the classroom to verify your setup steps."
   ]
  },
  {
   "cell_type": "code",
   "execution_count": 3,
   "metadata": {},
   "outputs": [],
   "source": [
    "# from tensorflow.python.client import device_lib\n",
    "# print(device_lib.list_local_devices())"
   ]
  },
  {
   "cell_type": "code",
   "execution_count": 4,
   "metadata": {},
   "outputs": [],
   "source": [
    "\n",
    "import os\n",
    "os.environ[\"CUDA_DEVICE_ORDER\"]=\"PCI_BUS_ID\";\n",
    " \n",
    "# The GPU id to use, usually either \"0\" or \"1\";\n",
    "os.environ[\"CUDA_VISIBLE_DEVICES\"]=\"3\"; "
   ]
  },
  {
   "cell_type": "markdown",
   "metadata": {},
   "source": [
    "## Dataset\n",
    "We begin by investigating the dataset that will be used to train and evaluate your pipeline.  The most common datasets used for machine translation are from [WMT](http://www.statmt.org/).  However, that will take a long time to train a neural network on.  We'll be using a dataset we created for this project that contains a small vocabulary.  You'll be able to train your model in a reasonable time with this dataset.\n",
    "### Load Data\n",
    "The data is located in `data/small_vocab_en` and `data/small_vocab_fr`. The `small_vocab_en` file contains English sentences with their French translations in the `small_vocab_fr` file. Load the English and French data from these files from running the cell below."
   ]
  },
  {
   "cell_type": "code",
   "execution_count": 5,
   "metadata": {},
   "outputs": [
    {
     "name": "stdout",
     "output_type": "stream",
     "text": [
      "Dataset Loaded\n"
     ]
    }
   ],
   "source": [
    "# Load English data\n",
    "english_sentences = helper.load_data('data/small_vocab_en')\n",
    "# Load French data\n",
    "french_sentences = helper.load_data('data/small_vocab_fr')\n",
    "\n",
    "print('Dataset Loaded')"
   ]
  },
  {
   "cell_type": "markdown",
   "metadata": {},
   "source": [
    "### Files\n",
    "Each line in `small_vocab_en` contains an English sentence with the respective translation in each line of `small_vocab_fr`.  View the first two lines from each file."
   ]
  },
  {
   "cell_type": "code",
   "execution_count": 6,
   "metadata": {},
   "outputs": [
    {
     "name": "stdout",
     "output_type": "stream",
     "text": [
      "small_vocab_en Line 1:  new jersey is sometimes quiet during autumn , and it is snowy in april .\n",
      "small_vocab_fr Line 1:  new jersey est parfois calme pendant l' automne , et il est neigeux en avril .\n",
      "small_vocab_en Line 2:  the united states is usually chilly during july , and it is usually freezing in november .\n",
      "small_vocab_fr Line 2:  les états-unis est généralement froid en juillet , et il gèle habituellement en novembre .\n"
     ]
    }
   ],
   "source": [
    "for sample_i in range(2):\n",
    "    print('small_vocab_en Line {}:  {}'.format(sample_i + 1, english_sentences[sample_i]))\n",
    "    print('small_vocab_fr Line {}:  {}'.format(sample_i + 1, french_sentences[sample_i]))"
   ]
  },
  {
   "cell_type": "markdown",
   "metadata": {},
   "source": [
    "From looking at the sentences, you can see they have been preprocessed already.  The puncuations have been delimited using spaces. All the text have been converted to lowercase.  This should save you some time, but the text requires more preprocessing.\n",
    "### Vocabulary\n",
    "The complexity of the problem is determined by the complexity of the vocabulary.  A more complex vocabulary is a more complex problem.  Let's look at the complexity of the dataset we'll be working with."
   ]
  },
  {
   "cell_type": "code",
   "execution_count": 8,
   "metadata": {},
   "outputs": [
    {
     "name": "stdout",
     "output_type": "stream",
     "text": [
      "1823250 English words.\n",
      "227 unique English words.\n",
      "10 Most common words in the English dataset:\n",
      "\"is\" \",\" \".\" \"in\" \"it\" \"during\" \"the\" \"but\" \"and\" \"sometimes\"\n",
      "\n",
      "1961295 French words.\n",
      "355 unique French words.\n",
      "10 Most common words in the French dataset:\n",
      "\"est\" \".\" \",\" \"en\" \"il\" \"les\" \"mais\" \"et\" \"la\" \"parfois\"\n"
     ]
    }
   ],
   "source": [
    "english_words_counter = collections.Counter([word for sentence in english_sentences for word in sentence.split()])\n",
    "french_words_counter = collections.Counter([word for sentence in french_sentences for word in sentence.split()])\n",
    "\n",
    "print('{} English words.'.format(len([word for sentence in english_sentences for word in sentence.split()])))\n",
    "print('{} unique English words.'.format(len(english_words_counter)))\n",
    "print('10 Most common words in the English dataset:')\n",
    "print('\"' + '\" \"'.join(list(zip(*english_words_counter.most_common(10)))[0]) + '\"')\n",
    "print()\n",
    "print('{} French words.'.format(len([word for sentence in french_sentences for word in sentence.split()])))\n",
    "print('{} unique French words.'.format(len(french_words_counter)))\n",
    "print('10 Most common words in the French dataset:')\n",
    "print('\"' + '\" \"'.join(list(zip(*french_words_counter.most_common(10)))[0]) + '\"')"
   ]
  },
  {
   "cell_type": "markdown",
   "metadata": {},
   "source": [
    "For comparison, _Alice's Adventures in Wonderland_ contains 2,766 unique words of a total of 15,500 words.\n",
    "## Preprocess\n",
    "For this project, you won't use text data as input to your model. Instead, you'll convert the text into sequences of integers using the following preprocess methods:\n",
    "1. Tokenize the words into ids\n",
    "2. Add padding to make all the sequences the same length.\n",
    "\n",
    "Time to start preprocessing the data...\n",
    "### Tokenize (IMPLEMENTATION)\n",
    "For a neural network to predict on text data, it first has to be turned into data it can understand. Text data like \"dog\" is a sequence of ASCII character encodings.  Since a neural network is a series of multiplication and addition operations, the input data needs to be number(s).\n",
    "\n",
    "We can turn each character into a number or each word into a number.  These are called character and word ids, respectively.  Character ids are used for character level models that generate text predictions for each character.  A word level model uses word ids that generate text predictions for each word.  Word level models tend to learn better, since they are lower in complexity, so we'll use those.\n",
    "\n",
    "Turn each sentence into a sequence of words ids using Keras's [`Tokenizer`](https://keras.io/preprocessing/text/#tokenizer) function. Use this function to tokenize `english_sentences` and `french_sentences` in the cell below.\n",
    "\n",
    "Running the cell will run `tokenize` on sample data and show output for debugging."
   ]
  },
  {
   "cell_type": "code",
   "execution_count": 12,
   "metadata": {},
   "outputs": [
    {
     "name": "stdout",
     "output_type": "stream",
     "text": [
      "{'the': 1, 'quick': 2, 'a': 3, 'brown': 4, 'fox': 5, 'jumps': 6, 'over': 7, 'lazy': 8, 'dog': 9, 'by': 10, 'jove': 11, 'my': 12, 'study': 13, 'of': 14, 'lexicography': 15, 'won': 16, 'prize': 17, 'this': 18, 'is': 19, 'short': 20, 'sentence': 21}\n",
      "\n",
      "Sequence 1 in x\n",
      "  Input:  The quick brown fox jumps over the lazy dog .\n",
      "  Output: [1, 2, 4, 5, 6, 7, 1, 8, 9]\n",
      "Sequence 2 in x\n",
      "  Input:  By Jove , my quick study of lexicography won a prize .\n",
      "  Output: [10, 11, 12, 2, 13, 14, 15, 16, 3, 17]\n",
      "Sequence 3 in x\n",
      "  Input:  This is a short sentence .\n",
      "  Output: [18, 19, 3, 20, 21]\n"
     ]
    }
   ],
   "source": [
    "def tokenize(x):\n",
    "    \"\"\"\n",
    "    Tokenize x\n",
    "    :param x: List of sentences/strings to be tokenized\n",
    "    :return: Tuple of (tokenized x data, tokenizer used to tokenize x)\n",
    "    \"\"\"\n",
    "    x_tk = Tokenizer(char_level=False)\n",
    "    x_tk.fit_on_texts(x)\n",
    "\n",
    "    return x_tk.texts_to_sequences(x), x_tk\n",
    "\n",
    "tests.test_tokenize(tokenize)\n",
    "\n",
    "# Tokenize Example output\n",
    "text_sentences = [\n",
    "    'The quick brown fox jumps over the lazy dog .',\n",
    "    'By Jove , my quick study of lexicography won a prize .',\n",
    "    'This is a short sentence .']\n",
    "text_tokenized, text_tokenizer = tokenize(text_sentences)\n",
    "print(text_tokenizer.word_index)\n",
    "print()\n",
    "for sample_i, (sent, token_sent) in enumerate(zip(text_sentences, text_tokenized)):\n",
    "    print('Sequence {} in x'.format(sample_i + 1))\n",
    "    print('  Input:  {}'.format(sent))\n",
    "    print('  Output: {}'.format(token_sent))"
   ]
  },
  {
   "cell_type": "markdown",
   "metadata": {},
   "source": [
    "### Padding (IMPLEMENTATION)\n",
    "When batching the sequence of word ids together, each sequence needs to be the same length.  Since sentences are dynamic in length, we can add padding to the end of the sequences to make them the same length.\n",
    "\n",
    "Make sure all the English sequences have the same length and all the French sequences have the same length by adding padding to the **end** of each sequence using Keras's [`pad_sequences`](https://keras.io/preprocessing/sequence/#pad_sequences) function."
   ]
  },
  {
   "cell_type": "code",
   "execution_count": 13,
   "metadata": {},
   "outputs": [
    {
     "name": "stdout",
     "output_type": "stream",
     "text": [
      "Sequence 1 in x\n",
      "  Input:  [1 2 4 5 6 7 1 8 9]\n",
      "  Output: [1 2 4 5 6 7 1 8 9 0]\n",
      "Sequence 2 in x\n",
      "  Input:  [10 11 12  2 13 14 15 16  3 17]\n",
      "  Output: [10 11 12  2 13 14 15 16  3 17]\n",
      "Sequence 3 in x\n",
      "  Input:  [18 19  3 20 21]\n",
      "  Output: [18 19  3 20 21  0  0  0  0  0]\n"
     ]
    }
   ],
   "source": [
    "def pad(x, length=None):\n",
    "    \"\"\"\n",
    "    Pad x\n",
    "    :param x: List of sequences.\n",
    "    :param length: Length to pad the sequence to.  If None, use length of longest sequence in x.\n",
    "    :return: Padded numpy array of sequences\n",
    "    \"\"\"\n",
    "    if length:\n",
    "        maximum_length = length\n",
    "    else:\n",
    "        maximum_length = max([len(l) for l in x])\n",
    "    padded_sequences = pad_sequences(x,\n",
    "                                     maxlen=maximum_length,\n",
    "                                     dtype='int32',\n",
    "                                     padding='post',\n",
    "                                     truncating='post',\n",
    "                                     value=0.0)\n",
    "    return padded_sequences\n",
    "\n",
    "tests.test_pad(pad)\n",
    "\n",
    "# Pad Tokenized output\n",
    "test_pad = pad(text_tokenized)\n",
    "for sample_i, (token_sent, pad_sent) in enumerate(zip(text_tokenized, test_pad)):\n",
    "    print('Sequence {} in x'.format(sample_i + 1))\n",
    "    print('  Input:  {}'.format(np.array(token_sent)))\n",
    "    print('  Output: {}'.format(pad_sent))"
   ]
  },
  {
   "cell_type": "markdown",
   "metadata": {},
   "source": [
    "### Preprocess Pipeline\n",
    "Your focus for this project is to build neural network architecture, so we won't ask you to create a preprocess pipeline.  Instead, we've provided you with the implementation of the `preprocess` function."
   ]
  },
  {
   "cell_type": "code",
   "execution_count": 32,
   "metadata": {},
   "outputs": [
    {
     "name": "stdout",
     "output_type": "stream",
     "text": [
      "Data Preprocessed\n",
      "Max English sentence length: 15\n",
      "Max French sentence length: 21\n",
      "English vocabulary size: 199\n",
      "French vocabulary size: 344\n"
     ]
    }
   ],
   "source": [
    "def preprocess(x, y):\n",
    "    \"\"\"\n",
    "    Preprocess x and y\n",
    "    :param x: Feature List of sentences\n",
    "    :param y: Label List of sentences\n",
    "    :return: Tuple of (Preprocessed x, Preprocessed y, x tokenizer, y tokenizer)\n",
    "    \"\"\"\n",
    "    preprocess_x, x_tk = tokenize(x)\n",
    "    preprocess_y, y_tk = tokenize(y)\n",
    "\n",
    "    preprocess_x = pad(preprocess_x)\n",
    "    preprocess_y = pad(preprocess_y)\n",
    "\n",
    "    # Keras's sparse_categorical_crossentropy function requires the labels to be in 3 dimensions\n",
    "    preprocess_y = preprocess_y.reshape(*preprocess_y.shape, 1)\n",
    "\n",
    "    return preprocess_x, preprocess_y, x_tk, y_tk\n",
    "\n",
    "preproc_english_sentences, preproc_french_sentences, english_tokenizer, french_tokenizer =\\\n",
    "    preprocess(english_sentences, french_sentences)\n",
    "    \n",
    "max_english_sequence_length = preproc_english_sentences.shape[1]\n",
    "max_french_sequence_length = preproc_french_sentences.shape[1]\n",
    "english_vocab_size = len(english_tokenizer.word_index)\n",
    "french_vocab_size = len(french_tokenizer.word_index)\n",
    "\n",
    "print('Data Preprocessed')\n",
    "print(\"Max English sentence length:\", max_english_sequence_length)\n",
    "print(\"Max French sentence length:\", max_french_sequence_length)\n",
    "print(\"English vocabulary size:\", english_vocab_size)\n",
    "print(\"French vocabulary size:\", french_vocab_size)"
   ]
  },
  {
   "cell_type": "markdown",
   "metadata": {},
   "source": [
    "## Models\n",
    "In this section, you will experiment with various neural network architectures.\n",
    "You will begin by training four relatively simple architectures.\n",
    "- Model 1 is a simple RNN\n",
    "- Model 2 is a RNN with Embedding\n",
    "- Model 3 is a Bidirectional RNN\n",
    "- Model 4 is an optional Encoder-Decoder RNN\n",
    "\n",
    "After experimenting with the four simple architectures, you will construct a deeper architecture that is designed to outperform all four models.\n",
    "### Ids Back to Text\n",
    "The neural network will be translating the input to words ids, which isn't the final form we want.  We want the French translation.  The function `logits_to_text` will bridge the gab between the logits from the neural network to the French translation.  You'll be using this function to better understand the output of the neural network."
   ]
  },
  {
   "cell_type": "code",
   "execution_count": 11,
   "metadata": {},
   "outputs": [
    {
     "name": "stdout",
     "output_type": "stream",
     "text": [
      "`logits_to_text` function loaded.\n"
     ]
    }
   ],
   "source": [
    "def logits_to_text(logits, tokenizer):\n",
    "    \"\"\"\n",
    "    Turn logits from a neural network into text using the tokenizer\n",
    "    :param logits: Logits from a neural network\n",
    "    :param tokenizer: Keras Tokenizer fit on the labels\n",
    "    :return: String that represents the text of the logits\n",
    "    \"\"\"\n",
    "    index_to_words = {id: word for word, id in tokenizer.word_index.items()}\n",
    "    index_to_words[0] = '<PAD>'\n",
    "    # it seems logits are otput from the model after softmax with shape = (number of prediction, vocabulary_size)\n",
    "    return ' '.join([index_to_words[prediction] for prediction in np.argmax(logits, 1)])\n",
    "\n",
    "print('`logits_to_text` function loaded.')\n",
    "\n",
    "\n",
    "def index_to_text(sentence, tokenizer):\n",
    "    \"\"\"\n",
    "    Turn logits from a neural network into text using the tokenizer\n",
    "    :param logits: Logits from a neural network\n",
    "    :param tokenizer: Keras Tokenizer fit on the labels\n",
    "    :return: String that represents the text of the logits\n",
    "    \"\"\"\n",
    "    index_to_words = {id: word for word, id in tokenizer.word_index.items()}\n",
    "    index_to_words[0] = '<PAD>'\n",
    "    # it seems logits are otput from the model after softmax with shape = (number of prediction, vocabulary_size)\n",
    "    return ' '.join([index_to_words[ind[0]] for ind in sentence])\n",
    "\n",
    "\n"
   ]
  },
  {
   "cell_type": "markdown",
   "metadata": {},
   "source": [
    "# Index Word Dictionary\n",
    "example of index_to_words = {0: '<PAD>', 1: 'the', 2: 'quick', 3: 'a', 4: 'brown', 5: 'fox', 6: 'jumps', 7: 'over', 8: 'lazy', 9: 'dog', 10: 'by', 11: 'jove', 12: 'my', 13: 'study', 14: 'of', 15: 'lexicography', 16: 'won', 17: 'prize', 18: 'this', 19: 'is', 20: 'short', 21: 'sentence'}"
   ]
  },
  {
   "cell_type": "markdown",
   "metadata": {},
   "source": [
    "### Model 1: RNN (IMPLEMENTATION)\n",
    "![RNN](images/rnn.png)\n",
    "A basic RNN model is a good baseline for sequence data.  In this model, you'll build a RNN that translates English to French."
   ]
  },
  {
   "cell_type": "code",
   "execution_count": 12,
   "metadata": {},
   "outputs": [
    {
     "name": "stderr",
     "output_type": "stream",
     "text": [
      "/app/local/anaconda3/lib/python3.6/site-packages/keras/engine/sequential.py:109: UserWarning: `Sequential.model` is deprecated. `Sequential` is a subclass of `Model`, you can just use your `Sequential` instance directly.\n",
      "  warnings.warn('`Sequential.model` is deprecated. '\n"
     ]
    },
    {
     "name": "stdout",
     "output_type": "stream",
     "text": [
      "_________________________________________________________________\n",
      "Layer (type)                 Output Shape              Param #   \n",
      "=================================================================\n",
      "lstm_2 (LSTM)                (None, 21, 64)            16896     \n",
      "_________________________________________________________________\n",
      "dense_2 (Dense)              (None, 21, 344)           22360     \n",
      "=================================================================\n",
      "Total params: 39,256\n",
      "Trainable params: 39,256\n",
      "Non-trainable params: 0\n",
      "_________________________________________________________________\n",
      "Train on 110288 samples, validate on 27573 samples\n",
      "Epoch 1/40\n",
      "110288/110288 [==============================] - 20s 182us/step - loss: 3.5059 - acc: 0.4104 - val_loss: nan - val_acc: 0.4572\n",
      "Epoch 2/40\n",
      "110288/110288 [==============================] - 4s 37us/step - loss: 2.4177 - acc: 0.4696 - val_loss: nan - val_acc: 0.4965\n",
      "Epoch 3/40\n",
      "110288/110288 [==============================] - 4s 37us/step - loss: 2.1121 - acc: 0.5214 - val_loss: nan - val_acc: 0.5434\n",
      "Epoch 4/40\n",
      "110288/110288 [==============================] - 4s 38us/step - loss: 1.8952 - acc: 0.5566 - val_loss: nan - val_acc: 0.5667\n",
      "Epoch 5/40\n",
      "110288/110288 [==============================] - 4s 38us/step - loss: 1.7550 - acc: 0.5787 - val_loss: nan - val_acc: 0.5856\n",
      "Epoch 6/40\n",
      "110288/110288 [==============================] - 4s 38us/step - loss: 1.6603 - acc: 0.5896 - val_loss: nan - val_acc: 0.5994\n",
      "Epoch 7/40\n",
      "110288/110288 [==============================] - 4s 37us/step - loss: 1.5929 - acc: 0.5983 - val_loss: nan - val_acc: 0.6006\n",
      "Epoch 8/40\n",
      "110288/110288 [==============================] - 4s 37us/step - loss: 1.5419 - acc: 0.6067 - val_loss: nan - val_acc: 0.6057\n",
      "Epoch 9/40\n",
      "110288/110288 [==============================] - 4s 36us/step - loss: 1.5001 - acc: 0.6114 - val_loss: nan - val_acc: 0.6094\n",
      "Epoch 10/40\n",
      "110288/110288 [==============================] - 4s 37us/step - loss: 1.4636 - acc: 0.6154 - val_loss: nan - val_acc: 0.6220\n",
      "Epoch 11/40\n",
      "110288/110288 [==============================] - 4s 36us/step - loss: 1.4315 - acc: 0.6222 - val_loss: nan - val_acc: 0.6229\n",
      "Epoch 12/40\n",
      "110288/110288 [==============================] - 4s 36us/step - loss: 1.4011 - acc: 0.6255 - val_loss: nan - val_acc: 0.6274\n",
      "Epoch 13/40\n",
      "110288/110288 [==============================] - 4s 37us/step - loss: 1.3735 - acc: 0.6306 - val_loss: nan - val_acc: 0.6317\n",
      "Epoch 14/40\n",
      "110288/110288 [==============================] - 4s 36us/step - loss: 1.3481 - acc: 0.6351 - val_loss: nan - val_acc: 0.6364\n",
      "Epoch 15/40\n",
      "110288/110288 [==============================] - 4s 37us/step - loss: 1.3254 - acc: 0.6384 - val_loss: nan - val_acc: 0.6377\n",
      "Epoch 16/40\n",
      "110288/110288 [==============================] - 4s 37us/step - loss: 1.3051 - acc: 0.6414 - val_loss: nan - val_acc: 0.6426\n",
      "Epoch 17/40\n",
      "110288/110288 [==============================] - 4s 38us/step - loss: 1.2865 - acc: 0.6437 - val_loss: nan - val_acc: 0.6466\n",
      "Epoch 18/40\n",
      "110288/110288 [==============================] - 4s 38us/step - loss: 1.2693 - acc: 0.6465 - val_loss: nan - val_acc: 0.6455\n",
      "Epoch 19/40\n",
      "110288/110288 [==============================] - 4s 38us/step - loss: 1.2543 - acc: 0.6487 - val_loss: nan - val_acc: 0.6486\n",
      "Epoch 20/40\n",
      "110288/110288 [==============================] - 4s 38us/step - loss: 1.2402 - acc: 0.6504 - val_loss: nan - val_acc: 0.6549\n",
      "Epoch 21/40\n",
      "110288/110288 [==============================] - 4s 37us/step - loss: 1.2272 - acc: 0.6523 - val_loss: nan - val_acc: 0.6581\n",
      "Epoch 22/40\n",
      "110288/110288 [==============================] - 4s 38us/step - loss: 1.2151 - acc: 0.6545 - val_loss: nan - val_acc: 0.6526\n",
      "Epoch 23/40\n",
      "110288/110288 [==============================] - 4s 37us/step - loss: 1.2054 - acc: 0.6554 - val_loss: nan - val_acc: 0.6599\n",
      "Epoch 24/40\n",
      "110288/110288 [==============================] - 4s 36us/step - loss: 1.1945 - acc: 0.6561 - val_loss: nan - val_acc: 0.6603\n",
      "Epoch 25/40\n",
      "110288/110288 [==============================] - 4s 36us/step - loss: 1.1860 - acc: 0.6588 - val_loss: nan - val_acc: 0.6596\n",
      "Epoch 26/40\n",
      "110288/110288 [==============================] - 4s 36us/step - loss: 1.1757 - acc: 0.6596 - val_loss: nan - val_acc: 0.6600\n",
      "Epoch 27/40\n",
      "110288/110288 [==============================] - 4s 37us/step - loss: 1.1692 - acc: 0.6609 - val_loss: nan - val_acc: 0.6662\n",
      "Epoch 28/40\n",
      "110288/110288 [==============================] - 4s 37us/step - loss: 1.1597 - acc: 0.6634 - val_loss: nan - val_acc: 0.6625\n",
      "Epoch 29/40\n",
      "110288/110288 [==============================] - 4s 36us/step - loss: 1.1532 - acc: 0.6636 - val_loss: nan - val_acc: 0.6618\n",
      "Epoch 30/40\n",
      "110288/110288 [==============================] - 4s 37us/step - loss: 1.1478 - acc: 0.6648 - val_loss: nan - val_acc: 0.6686\n",
      "Epoch 31/40\n",
      "110288/110288 [==============================] - 4s 37us/step - loss: 1.1385 - acc: 0.6665 - val_loss: nan - val_acc: 0.6703\n",
      "Epoch 32/40\n",
      "110288/110288 [==============================] - 4s 37us/step - loss: 1.1334 - acc: 0.6677 - val_loss: nan - val_acc: 0.6680\n",
      "Epoch 33/40\n",
      "110288/110288 [==============================] - 4s 37us/step - loss: 1.1266 - acc: 0.6692 - val_loss: nan - val_acc: 0.6702\n",
      "Epoch 34/40\n",
      "110288/110288 [==============================] - 4s 38us/step - loss: 1.1212 - acc: 0.6697 - val_loss: nan - val_acc: 0.6692\n",
      "Epoch 35/40\n",
      "110288/110288 [==============================] - 4s 37us/step - loss: 1.1143 - acc: 0.6721 - val_loss: nan - val_acc: 0.6725\n",
      "Epoch 36/40\n",
      "110288/110288 [==============================] - 4s 37us/step - loss: 1.1087 - acc: 0.6745 - val_loss: nan - val_acc: 0.6761\n",
      "Epoch 37/40\n",
      "110288/110288 [==============================] - 4s 37us/step - loss: 1.1022 - acc: 0.6769 - val_loss: nan - val_acc: 0.6807\n",
      "Epoch 38/40\n",
      "110288/110288 [==============================] - 4s 36us/step - loss: 1.0974 - acc: 0.6780 - val_loss: nan - val_acc: 0.6807\n",
      "Epoch 39/40\n",
      "110288/110288 [==============================] - 4s 35us/step - loss: 1.0910 - acc: 0.6800 - val_loss: nan - val_acc: 0.6770\n",
      "Epoch 40/40\n",
      "110288/110288 [==============================] - 4s 37us/step - loss: 1.0865 - acc: 0.6803 - val_loss: nan - val_acc: 0.6843\n"
     ]
    }
   ],
   "source": [
    "from keras import Sequential\n",
    "from keras.layers import LSTM \n",
    "\n",
    "\n",
    "def simple_model(input_shape, output_sequence_length, english_vocab_size, french_vocab_size):\n",
    "    \"\"\"\n",
    "    Build and train a basic RNN on x and y\n",
    "    :param input_shape: Tuple of input shape\n",
    "    :param output_sequence_length: Length of output sequence\n",
    "    :param english_vocab_size: Number of unique English words in the dataset\n",
    "    :param french_vocab_size: Number of unique French words in the dataset\n",
    "    :return: Keras model built, but not trained\n",
    "    \"\"\"\n",
    "    # TODO: Build the layers\n",
    "    learning_rate = 1e-3\n",
    "    model = Sequential()\n",
    "    model.add(LSTM(64, return_sequences=True, input_shape=input_shape[1:]))\n",
    "    model.add(Dense(french_vocab_size, activation='softmax'))\n",
    "    \n",
    "    \n",
    "    model.compile(loss=sparse_categorical_crossentropy,\n",
    "                  optimizer=Adam(learning_rate),\n",
    "                  metrics=['accuracy'])\n",
    "    \n",
    "\n",
    "    return model\n",
    "\n",
    "tests.test_simple_model(simple_model)\n",
    "\n",
    "# Reshaping the input to work with a basic RNN\n",
    "tmp_x = pad(preproc_english_sentences, max_french_sequence_length)\n",
    "tmp_x = tmp_x.reshape((-1, preproc_french_sentences.shape[-2], 1))\n",
    "\n",
    "# Train the neural network\n",
    "simple_rnn_model = simple_model(\n",
    "    tmp_x.shape,\n",
    "    max_french_sequence_length,\n",
    "    english_vocab_size,\n",
    "    french_vocab_size)\n",
    "\n",
    "\n",
    "\n",
    "simple_rnn_model.summary()\n",
    "    \n",
    "simple_rnn_model.fit(tmp_x, preproc_french_sentences, batch_size=1024, epochs=40, validation_split=0.2)\n",
    "\n",
    "simple_rnn_model.save('simple_rnn_model.h5')  # creates a HDF5 file 'my_model.h5'\n",
    "# simple_rnn_model = load_model('simple_rnn_model.h5')"
   ]
  },
  {
   "cell_type": "markdown",
   "metadata": {},
   "source": [
    "### Sample Peediction "
   ]
  },
  {
   "cell_type": "code",
   "execution_count": 13,
   "metadata": {},
   "outputs": [
    {
     "name": "stdout",
     "output_type": "stream",
     "text": [
      "sample 0\n",
      "predicted  : new jersey est parfois calme en l' et il est est en en <PAD> <PAD> <PAD> <PAD> <PAD> <PAD> <PAD> <PAD>\n",
      "groundtruth: new jersey est parfois calme pendant l' automne et il est neigeux en avril <PAD> <PAD> <PAD> <PAD> <PAD> <PAD> <PAD>\n",
      "sample 100\n",
      "predicted  : new jersey est généralement calme en juin mais il est généralement généralement en en <PAD> <PAD> <PAD> <PAD> <PAD> <PAD> <PAD>\n",
      "groundtruth: new jersey est généralement calme au cours de l' automne mais il est généralement chaud en avril <PAD> <PAD> <PAD> <PAD>\n",
      "sample 1000\n",
      "predicted  : ils aiment les les les les et les bananes <PAD> <PAD> <PAD> <PAD> <PAD> <PAD> <PAD> <PAD> <PAD> <PAD> <PAD> <PAD>\n",
      "groundtruth: ils aiment les fraises les poires et les bananes <PAD> <PAD> <PAD> <PAD> <PAD> <PAD> <PAD> <PAD> <PAD> <PAD> <PAD> <PAD>\n",
      "sample 10000\n",
      "predicted  : elle aime les citrons le pamplemousse et les citrons <PAD> <PAD> <PAD> <PAD> <PAD> <PAD> <PAD> <PAD> <PAD> <PAD> <PAD> <PAD>\n",
      "groundtruth: elle n'aime les fraises le pamplemousse et les raisins <PAD> <PAD> <PAD> <PAD> <PAD> <PAD> <PAD> <PAD> <PAD> <PAD> <PAD> <PAD>\n"
     ]
    }
   ],
   "source": [
    "print(\"sample 0\")\n",
    "print(\"predicted  :\", logits_to_text(simple_rnn_model.predict(tmp_x[0:1])[0], french_tokenizer))\n",
    "print(\"groundtruth:\", index_to_text(preproc_french_sentences[0], french_tokenizer))\n",
    "\n",
    "print(\"sample 100\")\n",
    "print(\"predicted  :\", logits_to_text(simple_rnn_model.predict(tmp_x[100:101])[0], french_tokenizer))\n",
    "print(\"groundtruth:\", index_to_text(preproc_french_sentences[100], french_tokenizer))\n",
    "\n",
    "print(\"sample 1000\")\n",
    "print(\"predicted  :\", logits_to_text(simple_rnn_model.predict(tmp_x[1000:1001])[0], french_tokenizer))\n",
    "print(\"groundtruth:\", index_to_text(preproc_french_sentences[1000], french_tokenizer))\n",
    "\n",
    "print(\"sample 10000\")\n",
    "print(\"predicted  :\", logits_to_text(simple_rnn_model.predict(tmp_x[10000:10001])[0], french_tokenizer))\n",
    "print(\"groundtruth:\", index_to_text(preproc_french_sentences[10000], french_tokenizer))"
   ]
  },
  {
   "cell_type": "markdown",
   "metadata": {},
   "source": [
    "### Model 2: Embedding (IMPLEMENTATION)\n",
    "![RNN](images/embedding.png)\n",
    "You've turned the words into ids, but there's a better representation of a word.  This is called word embeddings.  An embedding is a vector representation of the word that is close to similar words in n-dimensional space, where the n represents the size of the embedding vectors.\n",
    "\n",
    "In this model, you'll create a RNN model using embedding."
   ]
  },
  {
   "cell_type": "code",
   "execution_count": 14,
   "metadata": {},
   "outputs": [
    {
     "name": "stderr",
     "output_type": "stream",
     "text": [
      "/app/local/anaconda3/lib/python3.6/site-packages/keras/engine/sequential.py:109: UserWarning: `Sequential.model` is deprecated. `Sequential` is a subclass of `Model`, you can just use your `Sequential` instance directly.\n",
      "  warnings.warn('`Sequential.model` is deprecated. '\n"
     ]
    },
    {
     "name": "stdout",
     "output_type": "stream",
     "text": [
      "_________________________________________________________________\n",
      "Layer (type)                 Output Shape              Param #   \n",
      "=================================================================\n",
      "embedding_2 (Embedding)      (None, 21, 64)            12736     \n",
      "_________________________________________________________________\n",
      "lstm_4 (LSTM)                (None, 21, 64)            33024     \n",
      "_________________________________________________________________\n",
      "dense_4 (Dense)              (None, 21, 344)           22360     \n",
      "=================================================================\n",
      "Total params: 68,120\n",
      "Trainable params: 68,120\n",
      "Non-trainable params: 0\n",
      "_________________________________________________________________\n",
      "Train on 110288 samples, validate on 27573 samples\n",
      "Epoch 1/20\n",
      "110288/110288 [==============================] - 7s 64us/step - loss: 3.7743 - acc: 0.4013 - val_loss: nan - val_acc: 0.4093\n",
      "Epoch 2/20\n",
      "110288/110288 [==============================] - 4s 39us/step - loss: 2.7325 - acc: 0.4405 - val_loss: nan - val_acc: 0.4818\n",
      "Epoch 3/20\n",
      "110288/110288 [==============================] - 5s 43us/step - loss: 2.1979 - acc: 0.5085 - val_loss: nan - val_acc: 0.5404\n",
      "Epoch 4/20\n",
      "110288/110288 [==============================] - 4s 39us/step - loss: 1.8227 - acc: 0.5716 - val_loss: nan - val_acc: 0.6028\n",
      "Epoch 5/20\n",
      "110288/110288 [==============================] - 4s 38us/step - loss: 1.5547 - acc: 0.6185 - val_loss: nan - val_acc: 0.6331\n",
      "Epoch 6/20\n",
      "110288/110288 [==============================] - 4s 39us/step - loss: 1.3202 - acc: 0.6640 - val_loss: nan - val_acc: 0.6912\n",
      "Epoch 7/20\n",
      "110288/110288 [==============================] - 4s 40us/step - loss: 1.1157 - acc: 0.7142 - val_loss: nan - val_acc: 0.7358\n",
      "Epoch 8/20\n",
      "110288/110288 [==============================] - 4s 39us/step - loss: 0.9611 - acc: 0.7545 - val_loss: nan - val_acc: 0.7718\n",
      "Epoch 9/20\n",
      "110288/110288 [==============================] - 4s 38us/step - loss: 0.8412 - acc: 0.7835 - val_loss: nan - val_acc: 0.7943\n",
      "Epoch 10/20\n",
      "110288/110288 [==============================] - 4s 39us/step - loss: 0.7490 - acc: 0.8006 - val_loss: nan - val_acc: 0.8077\n",
      "Epoch 11/20\n",
      "110288/110288 [==============================] - 4s 38us/step - loss: 0.6835 - acc: 0.8119 - val_loss: nan - val_acc: 0.8186\n",
      "Epoch 12/20\n",
      "110288/110288 [==============================] - 4s 40us/step - loss: 0.6319 - acc: 0.8224 - val_loss: nan - val_acc: 0.8237\n",
      "Epoch 13/20\n",
      "110288/110288 [==============================] - 4s 38us/step - loss: 0.5936 - acc: 0.8299 - val_loss: nan - val_acc: 0.8335\n",
      "Epoch 14/20\n",
      "110288/110288 [==============================] - 4s 37us/step - loss: 0.5599 - acc: 0.8378 - val_loss: nan - val_acc: 0.8414\n",
      "Epoch 15/20\n",
      "110288/110288 [==============================] - 4s 38us/step - loss: 0.5319 - acc: 0.8447 - val_loss: nan - val_acc: 0.8472\n",
      "Epoch 16/20\n",
      "110288/110288 [==============================] - 4s 38us/step - loss: 0.5082 - acc: 0.8503 - val_loss: nan - val_acc: 0.8543\n",
      "Epoch 17/20\n",
      "110288/110288 [==============================] - 4s 38us/step - loss: 0.4867 - acc: 0.8559 - val_loss: nan - val_acc: 0.8581\n",
      "Epoch 18/20\n",
      "110288/110288 [==============================] - 4s 38us/step - loss: 0.4681 - acc: 0.8608 - val_loss: nan - val_acc: 0.8630\n",
      "Epoch 19/20\n",
      "110288/110288 [==============================] - 4s 38us/step - loss: 0.4509 - acc: 0.8652 - val_loss: nan - val_acc: 0.8665\n",
      "Epoch 20/20\n",
      "110288/110288 [==============================] - 4s 38us/step - loss: 0.4363 - acc: 0.8689 - val_loss: nan - val_acc: 0.8699\n"
     ]
    }
   ],
   "source": [
    "def embed_model(input_shape, output_sequence_length, english_vocab_size, french_vocab_size):\n",
    "    learning_rate = 1e-3       \n",
    "    \n",
    "    model = Sequential()\n",
    "    model.add(\n",
    "          Embedding(\n",
    "          input_dim = english_vocab_size,\n",
    "          output_dim = 64,\n",
    "          input_length = input_shape[1],\n",
    "          trainable= True))\n",
    "    model.add(LSTM(64, return_sequences=True))\n",
    "    model.add(Dense(french_vocab_size, activation='softmax'))\n",
    "     \n",
    "    model.compile(loss=sparse_categorical_crossentropy,\n",
    "                  optimizer=Adam(learning_rate),\n",
    "                  metrics=['accuracy'])\n",
    "    \n",
    "\n",
    "    return model\n",
    "\n",
    "tests.test_embed_model(embed_model)\n",
    "\n",
    "\n",
    "tmp_x_padded = pad(preproc_english_sentences, max_french_sequence_length)\n",
    "# tmp_x_reshaped = tmp_x.reshape((-1, preproc_french_sentences.shape[-2], 1))\n",
    "\n",
    "# Train the neural network\n",
    "embed_rnn_model = embed_model(\n",
    "    tmp_x_padded.shape,\n",
    "    max_french_sequence_length,\n",
    "    english_vocab_size,\n",
    "    french_vocab_size)\n",
    "\n",
    "\n",
    "\n",
    "embed_rnn_model.summary()\n",
    "    \n",
    "embed_rnn_model.fit(tmp_x_padded, preproc_french_sentences, batch_size=1024, epochs=20, validation_split=0.2)\n",
    "\n",
    "\n",
    "embed_rnn_model.save('embed_rnn_model.h5')  # creates a HDF5 file 'my_model.h5'\n",
    "# embed_rnn_model = load_model('embed_rnn_model.h5')"
   ]
  },
  {
   "cell_type": "markdown",
   "metadata": {},
   "source": [
    "### Model 3: Bidirectional RNNs (IMPLEMENTATION)\n",
    "![RNN](images/bidirectional.png)\n",
    "One restriction of a RNN is that it can't see the future input, only the past.  This is where bidirectional recurrent neural networks come in.  They are able to see the future data."
   ]
  },
  {
   "cell_type": "markdown",
   "metadata": {},
   "source": [
    "### Sample Peediction "
   ]
  },
  {
   "cell_type": "code",
   "execution_count": 15,
   "metadata": {},
   "outputs": [
    {
     "name": "stdout",
     "output_type": "stream",
     "text": [
      "sample 0\n",
      "predicted  : new jersey est parfois calme en l' et il il il enneigée en avril <PAD> <PAD> <PAD> <PAD> <PAD> <PAD> <PAD>\n",
      "groundtruth: new jersey est parfois calme pendant l' automne et il est neigeux en avril <PAD> <PAD> <PAD> <PAD> <PAD> <PAD> <PAD>\n",
      "sample 100\n",
      "predicted  : new jersey est généralement calme en l' automne mais mais il est est chaud en avril <PAD> <PAD> <PAD> <PAD> <PAD>\n",
      "groundtruth: new jersey est généralement calme au cours de l' automne mais il est généralement chaud en avril <PAD> <PAD> <PAD> <PAD>\n",
      "sample 1000\n",
      "predicted  : ils aiment les fraises les poires et les bananes <PAD> <PAD> <PAD> <PAD> <PAD> <PAD> <PAD> <PAD> <PAD> <PAD> <PAD> <PAD>\n",
      "groundtruth: ils aiment les fraises les poires et les bananes <PAD> <PAD> <PAD> <PAD> <PAD> <PAD> <PAD> <PAD> <PAD> <PAD> <PAD> <PAD>\n",
      "sample 10000\n",
      "predicted  : elle déteste les fraises le pamplemousse et les raisins <PAD> <PAD> <PAD> <PAD> <PAD> <PAD> <PAD> <PAD> <PAD> <PAD> <PAD> <PAD>\n",
      "groundtruth: elle n'aime les fraises le pamplemousse et les raisins <PAD> <PAD> <PAD> <PAD> <PAD> <PAD> <PAD> <PAD> <PAD> <PAD> <PAD> <PAD>\n"
     ]
    }
   ],
   "source": [
    "print(\"sample 0\")\n",
    "print(\"predicted  :\", logits_to_text(embed_rnn_model.predict(tmp_x_padded[0:1])[0], french_tokenizer))\n",
    "print(\"groundtruth:\", index_to_text(preproc_french_sentences[0], french_tokenizer))\n",
    "\n",
    "print(\"sample 100\")\n",
    "print(\"predicted  :\", logits_to_text(embed_rnn_model.predict(tmp_x_padded[100:101])[0], french_tokenizer))\n",
    "print(\"groundtruth:\", index_to_text(preproc_french_sentences[100], french_tokenizer))\n",
    "\n",
    "print(\"sample 1000\")\n",
    "print(\"predicted  :\", logits_to_text(embed_rnn_model.predict(tmp_x_padded[1000:1001])[0], french_tokenizer))\n",
    "print(\"groundtruth:\", index_to_text(preproc_french_sentences[1000], french_tokenizer))\n",
    "\n",
    "print(\"sample 10000\")\n",
    "print(\"predicted  :\", logits_to_text(embed_rnn_model.predict(tmp_x_padded[10000:10001])[0], french_tokenizer))\n",
    "print(\"groundtruth:\", index_to_text(preproc_french_sentences[10000], french_tokenizer))"
   ]
  },
  {
   "cell_type": "markdown",
   "metadata": {},
   "source": [
    "### Bidirectional LSTM Model "
   ]
  },
  {
   "cell_type": "code",
   "execution_count": 16,
   "metadata": {},
   "outputs": [
    {
     "name": "stderr",
     "output_type": "stream",
     "text": [
      "/app/local/anaconda3/lib/python3.6/site-packages/keras/engine/sequential.py:109: UserWarning: `Sequential.model` is deprecated. `Sequential` is a subclass of `Model`, you can just use your `Sequential` instance directly.\n",
      "  warnings.warn('`Sequential.model` is deprecated. '\n"
     ]
    },
    {
     "name": "stdout",
     "output_type": "stream",
     "text": [
      "_________________________________________________________________\n",
      "Layer (type)                 Output Shape              Param #   \n",
      "=================================================================\n",
      "embedding_4 (Embedding)      (None, 21, 64)            12736     \n",
      "_________________________________________________________________\n",
      "bidirectional_2 (Bidirection (None, 21, 128)           66048     \n",
      "_________________________________________________________________\n",
      "dense_6 (Dense)              (None, 21, 344)           44376     \n",
      "=================================================================\n",
      "Total params: 123,160\n",
      "Trainable params: 123,160\n",
      "Non-trainable params: 0\n",
      "_________________________________________________________________\n",
      "Train on 110288 samples, validate on 27573 samples\n",
      "Epoch 1/20\n",
      "110288/110288 [==============================] - 9s 78us/step - loss: 3.4496 - acc: 0.4300 - val_loss: nan - val_acc: 0.4762\n",
      "Epoch 2/20\n",
      "110288/110288 [==============================] - 7s 63us/step - loss: 2.3391 - acc: 0.4926 - val_loss: nan - val_acc: 0.5080\n",
      "Epoch 3/20\n",
      "110288/110288 [==============================] - 7s 63us/step - loss: 1.8726 - acc: 0.5451 - val_loss: nan - val_acc: 0.5923\n",
      "Epoch 4/20\n",
      "110288/110288 [==============================] - 7s 63us/step - loss: 1.5281 - acc: 0.6163 - val_loss: nan - val_acc: 0.6520\n",
      "Epoch 5/20\n",
      "110288/110288 [==============================] - 7s 63us/step - loss: 1.2157 - acc: 0.6851 - val_loss: nan - val_acc: 0.7167\n",
      "Epoch 6/20\n",
      "110288/110288 [==============================] - 7s 62us/step - loss: 0.9776 - acc: 0.7444 - val_loss: nan - val_acc: 0.7679\n",
      "Epoch 7/20\n",
      "110288/110288 [==============================] - 7s 65us/step - loss: 0.8164 - acc: 0.7807 - val_loss: nan - val_acc: 0.7931\n",
      "Epoch 8/20\n",
      "110288/110288 [==============================] - 7s 65us/step - loss: 0.7106 - acc: 0.8015 - val_loss: nan - val_acc: 0.8100\n",
      "Epoch 9/20\n",
      "110288/110288 [==============================] - 7s 65us/step - loss: 0.6358 - acc: 0.8178 - val_loss: nan - val_acc: 0.8258\n",
      "Epoch 10/20\n",
      "110288/110288 [==============================] - 7s 66us/step - loss: 0.5783 - acc: 0.8319 - val_loss: nan - val_acc: 0.8379\n",
      "Epoch 11/20\n",
      "110288/110288 [==============================] - 7s 65us/step - loss: 0.5307 - acc: 0.8445 - val_loss: nan - val_acc: 0.8516\n",
      "Epoch 12/20\n",
      "110288/110288 [==============================] - 7s 65us/step - loss: 0.4907 - acc: 0.8554 - val_loss: nan - val_acc: 0.8617\n",
      "Epoch 13/20\n",
      "110288/110288 [==============================] - 7s 64us/step - loss: 0.4569 - acc: 0.8651 - val_loss: nan - val_acc: 0.8680\n",
      "Epoch 14/20\n",
      "110288/110288 [==============================] - 7s 65us/step - loss: 0.4286 - acc: 0.8736 - val_loss: nan - val_acc: 0.8772\n",
      "Epoch 15/20\n",
      "110288/110288 [==============================] - 7s 64us/step - loss: 0.4046 - acc: 0.8808 - val_loss: nan - val_acc: 0.8828\n",
      "Epoch 16/20\n",
      "110288/110288 [==============================] - 7s 64us/step - loss: 0.3829 - acc: 0.8871 - val_loss: nan - val_acc: 0.8873\n",
      "Epoch 17/20\n",
      "110288/110288 [==============================] - 7s 66us/step - loss: 0.3651 - acc: 0.8925 - val_loss: nan - val_acc: 0.8930\n",
      "Epoch 18/20\n",
      "110288/110288 [==============================] - 7s 65us/step - loss: 0.3491 - acc: 0.8971 - val_loss: nan - val_acc: 0.8960\n",
      "Epoch 19/20\n",
      "110288/110288 [==============================] - 7s 65us/step - loss: 0.3325 - acc: 0.9023 - val_loss: nan - val_acc: 0.9040\n",
      "Epoch 20/20\n",
      "110288/110288 [==============================] - 7s 64us/step - loss: 0.3182 - acc: 0.9065 - val_loss: nan - val_acc: 0.9067\n"
     ]
    }
   ],
   "source": [
    "from keras.layers import Bidirectional\n",
    "\n",
    "def bd_model(input_shape, output_sequence_length, english_vocab_size, french_vocab_size):\n",
    "    learning_rate = 1e-3    \n",
    "    \n",
    "    \n",
    "    # model form 1\n",
    "    model = Sequential()\n",
    "    model.add(\n",
    "          Embedding(input_dim = english_vocab_size,\n",
    "          output_dim = 64,\n",
    "          input_length = input_shape[1],\n",
    "          trainable= True))\n",
    "    model.add(Bidirectional(LSTM(64, return_sequences=True)))\n",
    "    model.add(Dense(french_vocab_size, activation='softmax'))\n",
    "    \n",
    "\n",
    "    \n",
    "    # model form 2\n",
    "#     input_seq = Input(shape=input_shape[1:])\n",
    "#     embedded_seq = Embedding(input_dim = english_vocab_size, \n",
    "#                              output_dim = 64,\n",
    "#                              input_length=input_shape[1])(input_seq)\n",
    "    \n",
    "#     rnn = Bidirectional(units=100, return_sequences=True)(embedded_seq)\n",
    "#     logits = TimeDistributed(Dense(units=french_vocab_size))(rnn) \n",
    "#     model = Model(input_seq, Activation('softmax')(logits))    \n",
    "    \n",
    "    \n",
    "    \n",
    "    model.compile(loss=sparse_categorical_crossentropy,\n",
    "                  optimizer=Adam(learning_rate),\n",
    "                  metrics=['accuracy'])\n",
    "    \n",
    "\n",
    "    return model\n",
    "\n",
    "tests.test_embed_model(bd_model)\n",
    "\n",
    "\n",
    "tmp_x_padded = pad(preproc_english_sentences, max_french_sequence_length)\n",
    "# tmp_x_reshaped = tmp_x.reshape((-1, preproc_french_sentences.shape[-2], 1))\n",
    "\n",
    "# Train the neural network\n",
    "bd_rnn_model = bd_model(tmp_x_padded.shape,\n",
    "                        max_french_sequence_length,\n",
    "                        english_vocab_size,\n",
    "                        french_vocab_size)\n",
    "\n",
    "\n",
    "\n",
    "bd_rnn_model.summary()\n",
    "    \n",
    "bd_rnn_model.fit(tmp_x_padded, preproc_french_sentences, batch_size=1024, epochs=20, validation_split=0.2)\n",
    "\n",
    "bd_rnn_model.save('bd_rnn_model.h5')  # creates a HDF5 file 'my_model.h5'\n",
    "# bd_rnn_model = load_model('bd_rnn_model.h5')"
   ]
  },
  {
   "cell_type": "markdown",
   "metadata": {},
   "source": [
    "### Sample Peediction "
   ]
  },
  {
   "cell_type": "code",
   "execution_count": 17,
   "metadata": {},
   "outputs": [
    {
     "name": "stdout",
     "output_type": "stream",
     "text": [
      "sample 0\n",
      "predicted  : new jersey est parfois calme pendant l' et il est est en en <PAD> <PAD> <PAD> <PAD> <PAD> <PAD> <PAD> <PAD>\n",
      "groundtruth: new jersey est parfois calme pendant l' automne et il est neigeux en avril <PAD> <PAD> <PAD> <PAD> <PAD> <PAD> <PAD>\n",
      "sample 100\n",
      "predicted  : new jersey est généralement calme au cours de l' automne mais est est habituellement en avril avril <PAD> <PAD> <PAD> <PAD>\n",
      "groundtruth: new jersey est généralement calme au cours de l' automne mais il est généralement chaud en avril <PAD> <PAD> <PAD> <PAD>\n",
      "sample 1000\n",
      "predicted  : ils aiment les fraises les poires et les bananes <PAD> <PAD> <PAD> <PAD> <PAD> <PAD> <PAD> <PAD> <PAD> <PAD> <PAD> <PAD>\n",
      "groundtruth: ils aiment les fraises les poires et les bananes <PAD> <PAD> <PAD> <PAD> <PAD> <PAD> <PAD> <PAD> <PAD> <PAD> <PAD> <PAD>\n",
      "sample 10000\n",
      "predicted  : elle n'aime les fraises le pamplemousse et les raisins <PAD> <PAD> <PAD> <PAD> <PAD> <PAD> <PAD> <PAD> <PAD> <PAD> <PAD> <PAD>\n",
      "groundtruth: elle n'aime les fraises le pamplemousse et les raisins <PAD> <PAD> <PAD> <PAD> <PAD> <PAD> <PAD> <PAD> <PAD> <PAD> <PAD> <PAD>\n"
     ]
    }
   ],
   "source": [
    "print(\"sample 0\")\n",
    "print(\"predicted  :\", logits_to_text(bd_rnn_model.predict(tmp_x_padded[0:1])[0], french_tokenizer))\n",
    "print(\"groundtruth:\", index_to_text(preproc_french_sentences[0:1][0], french_tokenizer))\n",
    "\n",
    "print(\"sample 100\")\n",
    "print(\"predicted  :\", logits_to_text(bd_rnn_model.predict(tmp_x_padded[100:101])[0], french_tokenizer))\n",
    "print(\"groundtruth:\", index_to_text(preproc_french_sentences[100:101][0], french_tokenizer))\n",
    "\n",
    "print(\"sample 1000\")\n",
    "print(\"predicted  :\", logits_to_text(bd_rnn_model.predict(tmp_x_padded[1000:1001])[0], french_tokenizer))\n",
    "print(\"groundtruth:\", index_to_text(preproc_french_sentences[1000:1001][0], french_tokenizer))\n",
    "\n",
    "print(\"sample 10000\")\n",
    "print(\"predicted  :\", logits_to_text(bd_rnn_model.predict(tmp_x_padded[10000:10001])[0], french_tokenizer))\n",
    "print(\"groundtruth:\", index_to_text(preproc_french_sentences[10000:10001][0], french_tokenizer))"
   ]
  },
  {
   "cell_type": "markdown",
   "metadata": {},
   "source": [
    "### Model 5: Custom (IMPLEMENTATION)\n",
    "Use everything you learned from the previous models to create a model that incorporates embedding and a bidirectional rnn into one model."
   ]
  },
  {
   "cell_type": "markdown",
   "metadata": {},
   "source": [
    "# Custome Model Description\n",
    "1. `Context`:\n",
    "For my custome model, i tried to follow the material in the lecture and [encoder decoder models with Keras](https://blog.keras.io/a-ten-minute-introduction-to-sequence-to-sequence-learning-in-keras.html). The tutorial introduces a encoder-decoder model at the character level, and several modifications was needed to convert it to word level, which i implemented. It took me considerable amount of time to finalize the work. \n",
    "\n",
    "2. `Model` : This seq-to-seq model below has the ability to generate predictions of variables length. Which makes it different from the previous models above. I create 2 new tokens in the target sentences (French). One that marks the <start> and the other <end> of the sentence. The graph below shows the structure of the model.\n",
    "\n",
    "![alt text](images/seq2seq.PNG)\n",
    "\n",
    "\n",
    "3. `Challenges`: I had to create new tokens <end> , <start> which resulted in having to redefine some of the earlier functions for preprocessing the data. The preprocessing was different from other models. The model framework deviated from the structure defined in the note book: defining a single model in a function and then calling the predict method. I had to create a couple of smaller models from the seq2seq to sequentially and token by token generate my predictions. As a result, i wrote my own validation function. The function at the end of the notebook shows you the predictions vs the actual french sentences. \n"
   ]
  },
  {
   "cell_type": "markdown",
   "metadata": {},
   "source": [
    "### Preprocessing Data"
   ]
  },
  {
   "cell_type": "code",
   "execution_count": 9,
   "metadata": {},
   "outputs": [],
   "source": [
    "def preprocess_seq2seq(x, y):\n",
    "    \"\"\"\n",
    "    compared to previous version preprocess(x, y) i just removed the part where we add 1 dimension to y\n",
    "    Preprocess x and y\n",
    "    :param x: Feature List of sentences\n",
    "    :param y: Label List of sentences\n",
    "    :return: Tuple of (Preprocessed x, Preprocessed y, x tokenizer, y tokenizer)\n",
    "    \"\"\"\n",
    "    preprocess_x, x_tk = tokenize_seq2seq(x)\n",
    "    preprocess_y, y_tk = tokenize_seq2seq(y)\n",
    "\n",
    "    preprocess_x = pad(preprocess_x)\n",
    "    preprocess_y = pad(preprocess_y)\n",
    "\n",
    "    # Keras's sparse_categorical_crossentropy function requires the labels to be in 3 dimensions\n",
    "#     preprocess_y = preprocess_y.reshape(*preprocess_y.shape, 1)\n",
    "\n",
    "    return preprocess_x, preprocess_y, x_tk, y_tk\n",
    "\n",
    "\n",
    "def tokenize_seq2seq(x):\n",
    "    \"\"\"\n",
    "    The only difference between this version of the function and tokenize is that\n",
    "    i removed <> from filters so i can add <start> and <end> tokens to my target sentences \n",
    "    Tokenize x\n",
    "    :param x: List of sentences/strings to be tokenized\n",
    "    :return: Tuple of (tokenized x data, tokenizer used to tokenize x)\n",
    "    \"\"\"\n",
    "    x_tk = Tokenizer(char_level=False, filters='!\"#$%&()*+,-./:;=?@[\\\\]^_`{|}~\\t\\n')\n",
    "    x_tk.fit_on_texts(x)\n",
    "\n",
    "    return x_tk.texts_to_sequences(x), x_tk\n",
    "\n",
    "\n",
    "def append_start_end(original_sentence_seq):\n",
    "    \"\"\"\n",
    "    adding start and end tokens to the target sentences to initiate and end predictions. \n",
    "    \"\"\"\n",
    "    output = list()\n",
    "    for sentence in original_sentence_seq:\n",
    "        output.append('<start> ' + sentence + ' <end>')\n",
    "    return output\n",
    "\n",
    "\n",
    "def index_to_text_seq(sentence, tokenizer):\n",
    "    \"\"\"\n",
    "    Turn logits from a neural network into text using the tokenizer\n",
    "    :param logits: Logits from a neural network\n",
    "    :param tokenizer: Keras Tokenizer fit on the labels\n",
    "    :return: String that represents the text of the logits\n",
    "    \"\"\"\n",
    "    index_to_words = {id: word for word, id in tokenizer.word_index.items()}\n",
    "    index_to_words[0] = '<PAD>'\n",
    "    # it seems logits are otput from the model after softmax with shape = (number of prediction, vocabulary_size)\n",
    "    return ' '.join([index_to_words[ind] for ind in sentence])\n",
    "\n",
    "\n",
    "\n",
    "def validation(test_sentences_index):\n",
    "    for sentence in test_sentences_index:\n",
    "        print(\"predicted  :\", index_to_text_seq(predict(preproc_english_sentences_seq2seq[sentence,:])[1:], french_tokenizer_seq2seq))\n",
    "        print(\"groundtruth:\", index_to_text_seq(decoder_output_sequence[sentence,:], french_tokenizer_seq2seq))\n",
    "     \n",
    "\n",
    "def sentence_validation(sentence, english_tokenizer, french_tokenizer):\n",
    "    sentence = [english_tokenizer.word_index[word] for word in sentence.split()]\n",
    "    sentence_padded = pad([sentence], max_french_sequence_length_seq2seq)\n",
    "#     print(sentence_padded[0,:].shape)\n",
    "    predicted_seq = predict(sentence_padded[0,:])\n",
    "    translation = index_to_text_seq(predicted_seq[1:-1], french_tokenizer)\n",
    "    return translation\n"
   ]
  },
  {
   "cell_type": "code",
   "execution_count": 14,
   "metadata": {},
   "outputs": [
    {
     "name": "stdout",
     "output_type": "stream",
     "text": [
      "Data Preprocessed\n",
      "Max English sentence length: 15\n",
      "Max French sentence length: 23\n",
      "English vocabulary size: 199\n",
      "French vocabulary size: 346\n"
     ]
    }
   ],
   "source": [
    "french_sentences_seq2seq = append_start_end(french_sentences)\n",
    "\n",
    "preproc_english_sentences_seq2seq, preproc_french_sentences_seq2seq, english_tokenizer_seq2seq, french_tokenizer_seq2seq =\\\n",
    "    preprocess_seq2seq(english_sentences, french_sentences_seq2seq)\n",
    "    \n",
    "max_english_sequence_length_seq2seq = preproc_english_sentences_seq2seq.shape[1]\n",
    "max_french_sequence_length_seq2seq = preproc_french_sentences_seq2seq.shape[1]\n",
    "english_vocab_size_seq2seq = len(english_tokenizer_seq2seq.word_index)\n",
    "french_vocab_size_seq2seq = len(french_tokenizer_seq2seq.word_index)\n",
    "\n",
    "print('Data Preprocessed')\n",
    "print(\"Max English sentence length:\", max_english_sequence_length_seq2seq)\n",
    "print(\"Max French sentence length:\", max_french_sequence_length_seq2seq)\n",
    "print(\"English vocabulary size:\", english_vocab_size_seq2seq)\n",
    "print(\"French vocabulary size:\", french_vocab_size_seq2seq)\n",
    "\n",
    "\n",
    "preproc_english_sentences_seq2seq = pad(preproc_english_sentences_seq2seq, max_french_sequence_length_seq2seq)\n",
    "# here i am sliding the output sequences to generate the input/output to the decoder during prediction. \n",
    "decoder_input_sequence = preproc_french_sentences_seq2seq[:,:-1]\n",
    "decoder_output_sequence = preproc_french_sentences_seq2seq[:,1:]"
   ]
  },
  {
   "cell_type": "markdown",
   "metadata": {},
   "source": [
    "# Training the seq-to-seq model with LSTM Implementation"
   ]
  },
  {
   "cell_type": "code",
   "execution_count": 21,
   "metadata": {},
   "outputs": [
    {
     "name": "stdout",
     "output_type": "stream",
     "text": [
      "Train on 110288 samples, validate on 27573 samples\n",
      "Epoch 1/60\n",
      "110288/110288 [==============================] - 9s 82us/step - loss: 2.9660 - acc: 0.4497 - val_loss: nan - val_acc: 0.5347\n",
      "Epoch 2/60\n",
      "110288/110288 [==============================] - 8s 70us/step - loss: 1.8378 - acc: 0.6027 - val_loss: nan - val_acc: 0.6703\n",
      "Epoch 3/60\n",
      "110288/110288 [==============================] - 8s 72us/step - loss: 1.1463 - acc: 0.7003 - val_loss: nan - val_acc: 0.7235\n",
      "Epoch 4/60\n",
      "110288/110288 [==============================] - 8s 71us/step - loss: 0.8740 - acc: 0.7357 - val_loss: nan - val_acc: 0.7466\n",
      "Epoch 5/60\n",
      "110288/110288 [==============================] - 8s 72us/step - loss: 0.7576 - acc: 0.7571 - val_loss: nan - val_acc: 0.7702\n",
      "Epoch 6/60\n",
      "110288/110288 [==============================] - 8s 72us/step - loss: 0.6810 - acc: 0.7786 - val_loss: nan - val_acc: 0.7900\n",
      "Epoch 7/60\n",
      "110288/110288 [==============================] - 8s 71us/step - loss: 0.6169 - acc: 0.7977 - val_loss: nan - val_acc: 0.8069\n",
      "Epoch 8/60\n",
      "110288/110288 [==============================] - 8s 69us/step - loss: 0.5625 - acc: 0.8151 - val_loss: nan - val_acc: 0.8247\n",
      "Epoch 9/60\n",
      "110288/110288 [==============================] - 8s 68us/step - loss: 0.5123 - acc: 0.8318 - val_loss: nan - val_acc: 0.8409\n",
      "Epoch 10/60\n",
      "110288/110288 [==============================] - 8s 69us/step - loss: 0.4633 - acc: 0.8473 - val_loss: nan - val_acc: 0.8545\n",
      "Epoch 11/60\n",
      "110288/110288 [==============================] - 8s 71us/step - loss: 0.4189 - acc: 0.8622 - val_loss: nan - val_acc: 0.8700\n",
      "Epoch 12/60\n",
      "110288/110288 [==============================] - 7s 68us/step - loss: 0.3806 - acc: 0.8753 - val_loss: nan - val_acc: 0.8840\n",
      "Epoch 13/60\n",
      "110288/110288 [==============================] - 8s 69us/step - loss: 0.3447 - acc: 0.8883 - val_loss: nan - val_acc: 0.8966\n",
      "Epoch 14/60\n",
      "110288/110288 [==============================] - 8s 70us/step - loss: 0.3091 - acc: 0.9020 - val_loss: nan - val_acc: 0.9092\n",
      "Epoch 15/60\n",
      "110288/110288 [==============================] - 8s 69us/step - loss: 0.2764 - acc: 0.9137 - val_loss: nan - val_acc: 0.9205\n",
      "Epoch 16/60\n",
      "110288/110288 [==============================] - 8s 70us/step - loss: 0.2455 - acc: 0.9248 - val_loss: nan - val_acc: 0.9310\n",
      "Epoch 17/60\n",
      "110288/110288 [==============================] - 8s 69us/step - loss: 0.2198 - acc: 0.9344 - val_loss: nan - val_acc: 0.9372\n",
      "Epoch 18/60\n",
      "110288/110288 [==============================] - 8s 69us/step - loss: 0.1951 - acc: 0.9438 - val_loss: nan - val_acc: 0.9491\n",
      "Epoch 19/60\n",
      "110288/110288 [==============================] - 8s 72us/step - loss: 0.1724 - acc: 0.9528 - val_loss: nan - val_acc: 0.9555\n",
      "Epoch 20/60\n",
      "110288/110288 [==============================] - 8s 72us/step - loss: 0.1519 - acc: 0.9604 - val_loss: nan - val_acc: 0.9598\n",
      "Epoch 21/60\n",
      "110288/110288 [==============================] - 7s 67us/step - loss: 0.1350 - acc: 0.9660 - val_loss: nan - val_acc: 0.9688\n",
      "Epoch 22/60\n",
      "110288/110288 [==============================] - 7s 67us/step - loss: 0.1197 - acc: 0.9707 - val_loss: nan - val_acc: 0.9728\n",
      "Epoch 23/60\n",
      "110288/110288 [==============================] - 7s 68us/step - loss: 0.1055 - acc: 0.9750 - val_loss: nan - val_acc: 0.9763\n",
      "Epoch 24/60\n",
      "110288/110288 [==============================] - 8s 68us/step - loss: 0.0939 - acc: 0.9779 - val_loss: nan - val_acc: 0.9787\n",
      "Epoch 25/60\n",
      "110288/110288 [==============================] - 8s 71us/step - loss: 0.0848 - acc: 0.9800 - val_loss: nan - val_acc: 0.9800\n",
      "Epoch 26/60\n",
      "110288/110288 [==============================] - 8s 70us/step - loss: 0.0782 - acc: 0.9813 - val_loss: nan - val_acc: 0.9813\n",
      "Epoch 27/60\n",
      "110288/110288 [==============================] - 8s 73us/step - loss: 0.0712 - acc: 0.9829 - val_loss: nan - val_acc: 0.9827\n",
      "Epoch 28/60\n",
      "110288/110288 [==============================] - 8s 70us/step - loss: 0.0658 - acc: 0.9839 - val_loss: nan - val_acc: 0.9837\n",
      "Epoch 29/60\n",
      "110288/110288 [==============================] - 8s 70us/step - loss: 0.0614 - acc: 0.9849 - val_loss: nan - val_acc: 0.9846\n",
      "Epoch 30/60\n",
      "110288/110288 [==============================] - 8s 72us/step - loss: 0.0576 - acc: 0.9857 - val_loss: nan - val_acc: 0.9855\n",
      "Epoch 31/60\n",
      "110288/110288 [==============================] - 8s 69us/step - loss: 0.0542 - acc: 0.9863 - val_loss: nan - val_acc: 0.9859\n",
      "Epoch 32/60\n",
      "110288/110288 [==============================] - 8s 70us/step - loss: 0.0510 - acc: 0.9869 - val_loss: nan - val_acc: 0.9866\n",
      "Epoch 33/60\n",
      "110288/110288 [==============================] - 8s 69us/step - loss: 0.0483 - acc: 0.9876 - val_loss: nan - val_acc: 0.9872\n",
      "Epoch 34/60\n",
      "110288/110288 [==============================] - 8s 70us/step - loss: 0.0458 - acc: 0.9880 - val_loss: nan - val_acc: 0.9876\n",
      "Epoch 35/60\n",
      "110288/110288 [==============================] - 8s 69us/step - loss: 0.0770 - acc: 0.9789 - val_loss: nan - val_acc: 0.9835\n",
      "Epoch 36/60\n",
      "110288/110288 [==============================] - 8s 71us/step - loss: 0.0451 - acc: 0.9881 - val_loss: nan - val_acc: 0.9884\n",
      "Epoch 37/60\n",
      "110288/110288 [==============================] - 8s 71us/step - loss: 0.0401 - acc: 0.9894 - val_loss: nan - val_acc: 0.9889\n",
      "Epoch 38/60\n",
      "110288/110288 [==============================] - 8s 74us/step - loss: 0.0384 - acc: 0.9898 - val_loss: nan - val_acc: 0.9891\n",
      "Epoch 39/60\n",
      "110288/110288 [==============================] - 7s 66us/step - loss: 0.0368 - acc: 0.9901 - val_loss: nan - val_acc: 0.9894\n",
      "Epoch 40/60\n",
      "110288/110288 [==============================] - 7s 67us/step - loss: 0.0353 - acc: 0.9905 - val_loss: nan - val_acc: 0.9900\n",
      "Epoch 41/60\n",
      "110288/110288 [==============================] - 7s 68us/step - loss: 0.0341 - acc: 0.9908 - val_loss: nan - val_acc: 0.9899\n",
      "Epoch 42/60\n",
      "110288/110288 [==============================] - 8s 69us/step - loss: 0.0331 - acc: 0.9910 - val_loss: nan - val_acc: 0.9903\n",
      "Epoch 43/60\n",
      "110288/110288 [==============================] - 7s 67us/step - loss: 0.0315 - acc: 0.9914 - val_loss: nan - val_acc: 0.9907\n",
      "Epoch 44/60\n",
      "110288/110288 [==============================] - 7s 67us/step - loss: 0.0306 - acc: 0.9916 - val_loss: nan - val_acc: 0.9908\n",
      "Epoch 45/60\n",
      "110288/110288 [==============================] - 8s 68us/step - loss: 0.0298 - acc: 0.9918 - val_loss: nan - val_acc: 0.9913\n",
      "Epoch 46/60\n",
      "110288/110288 [==============================] - 7s 68us/step - loss: 0.0284 - acc: 0.9922 - val_loss: nan - val_acc: 0.9913\n",
      "Epoch 47/60\n",
      "110288/110288 [==============================] - 8s 70us/step - loss: 0.0279 - acc: 0.9923 - val_loss: nan - val_acc: 0.9917\n",
      "Epoch 48/60\n",
      "110288/110288 [==============================] - 8s 68us/step - loss: 0.0266 - acc: 0.9927 - val_loss: nan - val_acc: 0.9919\n",
      "Epoch 49/60\n",
      "110288/110288 [==============================] - 7s 67us/step - loss: 0.0259 - acc: 0.9928 - val_loss: nan - val_acc: 0.9921\n",
      "Epoch 50/60\n",
      "110288/110288 [==============================] - 7s 67us/step - loss: 0.0253 - acc: 0.9930 - val_loss: nan - val_acc: 0.9923\n",
      "Epoch 51/60\n",
      "110288/110288 [==============================] - 7s 67us/step - loss: 0.0714 - acc: 0.9811 - val_loss: nan - val_acc: 0.9877\n",
      "Epoch 52/60\n",
      "110288/110288 [==============================] - 7s 68us/step - loss: 0.0285 - acc: 0.9920 - val_loss: nan - val_acc: 0.9921\n",
      "Epoch 53/60\n",
      "110288/110288 [==============================] - 8s 69us/step - loss: 0.0241 - acc: 0.9934 - val_loss: nan - val_acc: 0.9926\n",
      "Epoch 54/60\n",
      "110288/110288 [==============================] - 8s 69us/step - loss: 0.0228 - acc: 0.9937 - val_loss: nan - val_acc: 0.9929\n",
      "Epoch 55/60\n",
      "110288/110288 [==============================] - 8s 68us/step - loss: 0.0218 - acc: 0.9940 - val_loss: nan - val_acc: 0.9932\n",
      "Epoch 56/60\n",
      "110288/110288 [==============================] - 8s 70us/step - loss: 0.0212 - acc: 0.9942 - val_loss: nan - val_acc: 0.9933\n",
      "Epoch 57/60\n",
      "110288/110288 [==============================] - 8s 69us/step - loss: 0.0206 - acc: 0.9944 - val_loss: nan - val_acc: 0.9934\n",
      "Epoch 58/60\n",
      "110288/110288 [==============================] - 7s 67us/step - loss: 0.0201 - acc: 0.9945 - val_loss: nan - val_acc: 0.9935\n",
      "Epoch 59/60\n",
      "110288/110288 [==============================] - 7s 67us/step - loss: 0.0195 - acc: 0.9947 - val_loss: nan - val_acc: 0.9936\n",
      "Epoch 60/60\n"
     ]
    },
    {
     "name": "stdout",
     "output_type": "stream",
     "text": [
      "110288/110288 [==============================] - 8s 70us/step - loss: 0.0191 - acc: 0.9948 - val_loss: nan - val_acc: 0.9936\n",
      "Final Model Loaded\n"
     ]
    }
   ],
   "source": [
    "from keras import Sequential\n",
    "from keras.layers import LSTM\n",
    "\n",
    "\n",
    "learning_rate = 1e-3\n",
    "latent_dimension = 128\n",
    "input_shape = preproc_english_sentences_seq2seq.shape\n",
    "output_sequence_length = decoder_output_sequence.shape\n",
    "english_vocab_size = english_vocab_size_seq2seq\n",
    "french_vocab_size = french_vocab_size_seq2seq\n",
    "\n",
    "\n",
    "encoder_inputs = Input(shape=input_shape[1:])\n",
    "encoder_embedder = Embedding(input_dim = english_vocab_size,\n",
    "                             output_dim = latent_dimension,\n",
    "                             trainable= True)\n",
    "encoder_embeddings = encoder_embedder(encoder_inputs)\n",
    "encoder_lstm = LSTM(units = latent_dimension, return_state=True)\n",
    "encoder_last_state_hidden,encoder_last_state_hidden_again,encoder_last_state_cell = \\\n",
    "                                                        encoder_lstm(encoder_embeddings)\n",
    "\n",
    "encoder_states = [encoder_last_state_hidden, encoder_last_state_cell]\n",
    "\n",
    "decoder_inputs = Input(shape=(output_sequence_length[1],))\n",
    "decoder_embedder = Embedding(input_dim = french_vocab_size,\n",
    "                             output_dim = latent_dimension,\n",
    "                             trainable= True)\n",
    "decoder_embeddings = decoder_embedder(decoder_inputs)\n",
    "decoder_lstm = LSTM(latent_dimension, return_sequences=True, return_state=True)\n",
    "decoder_outputs, decoder_output_last_hidden, decoder_output_last_cell = \\\n",
    "                                decoder_lstm(decoder_embeddings,\n",
    "                                             initial_state=encoder_states)\n",
    "\n",
    "decoder_dense = Dense(french_vocab_size, activation='softmax')\n",
    "decoder_outputs_prob = decoder_dense(decoder_outputs)\n",
    "seq2seq_model = Model([encoder_inputs, decoder_inputs], decoder_outputs_prob)\n",
    "\n",
    "\n",
    "seq2seq_model.compile(loss=sparse_categorical_crossentropy,\n",
    "                  optimizer=Adam(learning_rate),\n",
    "                  metrics=['accuracy'])\n",
    "\n",
    "\n",
    "# tests.test_model_final(seq2seq_model)\n",
    "\n",
    "\n",
    "# seq2seq_model.summary()\n",
    "\n",
    "seq2seq_model.fit([preproc_english_sentences_seq2seq, decoder_input_sequence],\n",
    "                 decoder_output_sequence.reshape(*decoder_output_sequence.shape, 1),\n",
    "                 batch_size=1024,\n",
    "                 epochs=60,\n",
    "                 validation_split=0.2)\n",
    "\n",
    "\n",
    "# seq2seq_model.save('seq2seq_lstm.h5')  # creates a HDF5 file 'my_model.h5'\n",
    "# seq2seq_model = load_model('seq2seq_lstm.h5')\n",
    "\n",
    "print('Final Model Loaded')\n"
   ]
  },
  {
   "cell_type": "markdown",
   "metadata": {},
   "source": [
    "# Building Models for Prediction\n",
    "the most tricky part for me, was creating smaller models that use the seq2seq model i trained in the previous step. The encoder_model model simply generate hidden and cell states from the last cell of the encoder LSTM.\n",
    "This is then passed to the decoder as initial inputs. \n",
    "The decoder_inferences takes the hidden states from the encoder and the decoder inputs (words translated upto now), and generates the next translated word. "
   ]
  },
  {
   "cell_type": "code",
   "execution_count": 22,
   "metadata": {},
   "outputs": [],
   "source": [
    "# seq2seq_model = load_model('seq2seq_lstm.h5')\n",
    "encoder_model = Model(encoder_inputs, [encoder_last_state_hidden, encoder_last_state_cell])\n",
    "\n",
    "decoder_state_input_h = Input(shape=(latent_dimension,))\n",
    "decoder_state_input_c = Input(shape=(latent_dimension,))\n",
    "decoder_states_inputs = [decoder_state_input_h, decoder_state_input_c]\n",
    "\n",
    "decoder_outputs, decoder_state_out_h, decoder_state_out_c = decoder_lstm(\n",
    "    decoder_embeddings, initial_state=decoder_states_inputs)\n",
    "decoder_outputs_prob = decoder_dense(decoder_outputs)\n",
    "\n",
    "decoder_inferences = Model([decoder_inputs,  decoder_state_input_h, decoder_state_input_c],\n",
    "                           [decoder_state_out_h, decoder_state_out_c, decoder_outputs_prob])"
   ]
  },
  {
   "cell_type": "markdown",
   "metadata": {},
   "source": [
    "## Prediction (IMPLEMENTATION)\n",
    "TO generate predictions we first feed <start> token to the decoder and grab the first translation. I then add the translated token to <start> and pass both of them as decoder input to generate the 2nd translated word. The process continues until i either reacht the <end>, which has an prediction index of 3, or reach a <PAD> which has a prediction index of 0. "
   ]
  },
  {
   "cell_type": "code",
   "execution_count": 23,
   "metadata": {},
   "outputs": [],
   "source": [
    "def predict(input_seq):\n",
    "    input_seq = input_seq.reshape(1, *input_seq.shape)\n",
    "    output_seq = list()\n",
    "    target_seq = np.zeros((1, max_french_sequence_length_seq2seq-1), dtype=int)\n",
    "    target_seq[0, 0] = french_tokenizer_seq2seq.word_index['<start>']\n",
    "    output_seq.append(french_tokenizer_seq2seq.word_index['<start>'])\n",
    "    h_encoder, c_encoder = encoder_model.predict(input_seq)\n",
    "    h, c, probabilities = decoder_inferences.predict([target_seq, h_encoder, c_encoder])\n",
    "    prediction = int(np.argmax(probabilities[0,0,:]))\n",
    "    output_seq.append(prediction)\n",
    "    prediction_counter = 0\n",
    "    while prediction not in [3,0] and prediction_counter < (max_french_sequence_length_seq2seq-2):\n",
    "        prediction_counter += 1\n",
    "        target_seq[0, prediction_counter] = prediction\n",
    "        h, c, probabilities = decoder_inferences.predict([target_seq, h_encoder, c_encoder])\n",
    "        prediction = int(np.argmax(probabilities[0,prediction_counter,:]))\n",
    "        output_seq.append(prediction)\n",
    "    return output_seq"
   ]
  },
  {
   "cell_type": "markdown",
   "metadata": {},
   "source": [
    "# Model Passes the test\n",
    "the class requirements on the two sentences proposed is met and the model performs well. but i did not stop here, and tried a few model models. "
   ]
  },
  {
   "cell_type": "code",
   "execution_count": 24,
   "metadata": {},
   "outputs": [
    {
     "name": "stdout",
     "output_type": "stream",
     "text": [
      "predicted  : new jersey est parfois calme pendant l' automne et il est neigeux en avril <end>\n",
      "groundtruth: new jersey est parfois calme pendant l' automne et il est neigeux en avril <end> <PAD> <PAD> <PAD> <PAD> <PAD> <PAD> <PAD>\n"
     ]
    }
   ],
   "source": [
    "validation([0]) "
   ]
  },
  {
   "cell_type": "code",
   "execution_count": 25,
   "metadata": {},
   "outputs": [
    {
     "name": "stdout",
     "output_type": "stream",
     "text": [
      "model prediction:  il a vu un vieux camion jaune\n"
     ]
    }
   ],
   "source": [
    "sentence = \"he saw a old yellow truck\"\n",
    "pred = sentence_validation(sentence, english_tokenizer_seq2seq, french_tokenizer_seq2seq)  \n",
    "print(\"model prediction: \", pred)"
   ]
  },
  {
   "cell_type": "markdown",
   "metadata": {},
   "source": [
    "# Custome Seq2Seq with Bidirectional LSTM \n",
    "this model did not perform as well as the previous model, but keeping this for my record"
   ]
  },
  {
   "cell_type": "code",
   "execution_count": 30,
   "metadata": {},
   "outputs": [
    {
     "name": "stdout",
     "output_type": "stream",
     "text": [
      "(?, 68)\n",
      "________________________________________________________________________________________________________________________________________________________________________________________________________\n",
      "Layer (type)                                                      Output Shape                                Param #                 Connected to                                                      \n",
      "========================================================================================================================================================================================================\n",
      "input_9 (InputLayer)                                              (None, 23)                                  0                                                                                         \n",
      "________________________________________________________________________________________________________________________________________________________________________________________________________\n",
      "input_10 (InputLayer)                                             (None, 22)                                  0                                                                                         \n",
      "________________________________________________________________________________________________________________________________________________________________________________________________________\n",
      "embedding_9 (Embedding)                                           (None, 23, 68)                              13532                   input_9[0][0]                                                     \n",
      "________________________________________________________________________________________________________________________________________________________________________________________________________\n",
      "embedding_10 (Embedding)                                          (None, 22, 68)                              23528                   input_10[0][0]                                                    \n",
      "________________________________________________________________________________________________________________________________________________________________________________________________________\n",
      "bidirectional_3 (Bidirectional)                                   [(None, 136), (None, 68), (None, 68), (None 74528                   embedding_9[0][0]                                                 \n",
      "________________________________________________________________________________________________________________________________________________________________________________________________________\n",
      "lstm_12 (LSTM)                                                    [(None, 22, 68), (None, 68), (None, 68)]    37264                   embedding_10[0][0]                                                \n",
      "                                                                                                                                      bidirectional_3[0][1]                                             \n",
      "                                                                                                                                      bidirectional_3[0][3]                                             \n",
      "________________________________________________________________________________________________________________________________________________________________________________________________________\n",
      "dense_9 (Dense)                                                   (None, 22, 346)                             23874                   lstm_12[0][0]                                                     \n",
      "========================================================================================================================================================================================================\n",
      "Total params: 172,726\n",
      "Trainable params: 172,726\n",
      "Non-trainable params: 0\n",
      "________________________________________________________________________________________________________________________________________________________________________________________________________\n",
      "Train on 110288 samples, validate on 27573 samples\n",
      "Epoch 1/40\n",
      "110288/110288 [==============================] - 16s 147us/step - loss: 3.6115 - acc: 0.3935 - val_loss: nan - val_acc: 0.4244\n",
      "Epoch 2/40\n",
      "110288/110288 [==============================] - 12s 107us/step - loss: 2.4707 - acc: 0.4527 - val_loss: nan - val_acc: 0.4929\n",
      "Epoch 3/40\n",
      "110288/110288 [==============================] - 12s 105us/step - loss: 2.0201 - acc: 0.5405 - val_loss: nan - val_acc: 0.6030\n",
      "Epoch 4/40\n",
      "110288/110288 [==============================] - 11s 104us/step - loss: 1.4568 - acc: 0.6625 - val_loss: nan - val_acc: 0.6994\n",
      "Epoch 5/40\n",
      "110288/110288 [==============================] - 11s 103us/step - loss: 1.1032 - acc: 0.7137 - val_loss: nan - val_acc: 0.7304\n",
      "Epoch 6/40\n",
      "110288/110288 [==============================] - 11s 103us/step - loss: 0.9091 - acc: 0.7426 - val_loss: nan - val_acc: 0.7505\n",
      "Epoch 7/40\n",
      "110288/110288 [==============================] - 12s 106us/step - loss: 0.7971 - acc: 0.7588 - val_loss: nan - val_acc: 0.7658\n",
      "Epoch 8/40\n",
      "110288/110288 [==============================] - 12s 108us/step - loss: 0.7313 - acc: 0.7700 - val_loss: nan - val_acc: 0.7732\n",
      "Epoch 9/40\n",
      "110288/110288 [==============================] - 11s 103us/step - loss: 0.6898 - acc: 0.7780 - val_loss: nan - val_acc: 0.7843\n",
      "Epoch 10/40\n",
      "110288/110288 [==============================] - 11s 102us/step - loss: 0.6565 - acc: 0.7870 - val_loss: nan - val_acc: 0.7891\n",
      "Epoch 11/40\n",
      "110288/110288 [==============================] - 12s 105us/step - loss: 0.6275 - acc: 0.7921 - val_loss: nan - val_acc: 0.7927\n",
      "Epoch 12/40\n",
      "110288/110288 [==============================] - 12s 106us/step - loss: 0.6030 - acc: 0.7976 - val_loss: nan - val_acc: 0.8007\n",
      "Epoch 13/40\n",
      "110288/110288 [==============================] - 12s 107us/step - loss: 0.5769 - acc: 0.8060 - val_loss: nan - val_acc: 0.8101\n",
      "Epoch 14/40\n",
      "110288/110288 [==============================] - 12s 107us/step - loss: 0.5505 - acc: 0.8160 - val_loss: nan - val_acc: 0.8191\n",
      "Epoch 15/40\n",
      "110288/110288 [==============================] - 11s 103us/step - loss: 0.5271 - acc: 0.8238 - val_loss: nan - val_acc: 0.8276\n",
      "Epoch 16/40\n",
      "110288/110288 [==============================] - 11s 102us/step - loss: 0.5057 - acc: 0.8318 - val_loss: nan - val_acc: 0.8356\n",
      "Epoch 17/40\n",
      "110288/110288 [==============================] - 11s 103us/step - loss: 0.4837 - acc: 0.8403 - val_loss: nan - val_acc: 0.8452\n",
      "Epoch 18/40\n",
      "110288/110288 [==============================] - 11s 103us/step - loss: 0.4628 - acc: 0.8473 - val_loss: nan - val_acc: 0.8486\n",
      "Epoch 19/40\n",
      "110288/110288 [==============================] - 11s 103us/step - loss: 0.4397 - acc: 0.8556 - val_loss: nan - val_acc: 0.8609\n",
      "Epoch 20/40\n",
      "110288/110288 [==============================] - 11s 102us/step - loss: 0.4177 - acc: 0.8620 - val_loss: nan - val_acc: 0.8663\n",
      "Epoch 21/40\n",
      "110288/110288 [==============================] - 11s 102us/step - loss: 0.3955 - acc: 0.8687 - val_loss: nan - val_acc: 0.8727\n",
      "Epoch 22/40\n",
      "110288/110288 [==============================] - 11s 103us/step - loss: 0.3757 - acc: 0.8748 - val_loss: nan - val_acc: 0.8777\n",
      "Epoch 23/40\n",
      "110288/110288 [==============================] - 12s 106us/step - loss: 0.3583 - acc: 0.8802 - val_loss: nan - val_acc: 0.8831\n",
      "Epoch 24/40\n",
      "110288/110288 [==============================] - 12s 104us/step - loss: 0.3451 - acc: 0.8840 - val_loss: nan - val_acc: 0.8778\n",
      "Epoch 25/40\n",
      "110288/110288 [==============================] - 12s 107us/step - loss: 0.3305 - acc: 0.8887 - val_loss: nan - val_acc: 0.8876\n",
      "Epoch 26/40\n",
      "110288/110288 [==============================] - 12s 107us/step - loss: 0.3195 - acc: 0.8917 - val_loss: nan - val_acc: 0.8953\n",
      "Epoch 27/40\n",
      "110288/110288 [==============================] - 11s 103us/step - loss: 0.3077 - acc: 0.8959 - val_loss: nan - val_acc: 0.8970\n",
      "Epoch 28/40\n",
      "110288/110288 [==============================] - 11s 103us/step - loss: 0.2975 - acc: 0.8991 - val_loss: nan - val_acc: 0.8993\n",
      "Epoch 29/40\n",
      "110288/110288 [==============================] - 11s 102us/step - loss: 0.2892 - acc: 0.9016 - val_loss: nan - val_acc: 0.9025\n",
      "Epoch 30/40\n"
     ]
    },
    {
     "name": "stdout",
     "output_type": "stream",
     "text": [
      "110288/110288 [==============================] - 11s 102us/step - loss: 0.2800 - acc: 0.9045 - val_loss: nan - val_acc: 0.9076\n",
      "Epoch 31/40\n",
      "110288/110288 [==============================] - 11s 103us/step - loss: 0.2696 - acc: 0.9083 - val_loss: nan - val_acc: 0.9087\n",
      "Epoch 32/40\n",
      "110288/110288 [==============================] - 11s 102us/step - loss: 0.2624 - acc: 0.9105 - val_loss: nan - val_acc: 0.9112\n",
      "Epoch 33/40\n",
      "110288/110288 [==============================] - 11s 102us/step - loss: 0.2547 - acc: 0.9129 - val_loss: nan - val_acc: 0.9128\n",
      "Epoch 34/40\n",
      "110288/110288 [==============================] - 11s 103us/step - loss: 0.2471 - acc: 0.9156 - val_loss: nan - val_acc: 0.9151\n",
      "Epoch 35/40\n",
      "110288/110288 [==============================] - 11s 103us/step - loss: 0.2409 - acc: 0.9175 - val_loss: nan - val_acc: 0.9144\n",
      "Epoch 36/40\n",
      "110288/110288 [==============================] - 11s 104us/step - loss: 0.2341 - acc: 0.9203 - val_loss: nan - val_acc: 0.9213\n",
      "Epoch 37/40\n",
      "110288/110288 [==============================] - 11s 103us/step - loss: 0.2267 - acc: 0.9232 - val_loss: nan - val_acc: 0.9249\n",
      "Epoch 38/40\n",
      "110288/110288 [==============================] - 11s 103us/step - loss: 0.2211 - acc: 0.9251 - val_loss: nan - val_acc: 0.9216\n",
      "Epoch 39/40\n",
      "110288/110288 [==============================] - 11s 103us/step - loss: 0.2152 - acc: 0.9272 - val_loss: nan - val_acc: 0.9249\n",
      "Epoch 40/40\n",
      "110288/110288 [==============================] - 12s 105us/step - loss: 0.2111 - acc: 0.9283 - val_loss: nan - val_acc: 0.9306\n"
     ]
    },
    {
     "name": "stderr",
     "output_type": "stream",
     "text": [
      "/app/local/anaconda3/lib/python3.6/site-packages/keras/engine/network.py:872: UserWarning: Layer lstm_12 was passed non-serializable keyword arguments: {'initial_state': [<tf.Tensor 'bidirectional_3/while/Exit_3:0' shape=(?, 68) dtype=float32>, <tf.Tensor 'bidirectional_3/while_1/Exit_3:0' shape=(?, 68) dtype=float32>]}. They will not be included in the serialized model (and thus will be missing at deserialization time).\n",
      "  '. They will not be included '\n"
     ]
    },
    {
     "name": "stdout",
     "output_type": "stream",
     "text": [
      "Final Model Loaded\n"
     ]
    }
   ],
   "source": [
    "from keras import Sequential\n",
    "from keras.layers import LSTM\n",
    "\n",
    "\n",
    "learning_rate = 1e-3\n",
    "latent_dimension = 68\n",
    "input_shape = preproc_english_sentences_seq2seq.shape\n",
    "output_sequence_length = decoder_output_sequence.shape\n",
    "english_vocab_size = english_vocab_size_seq2seq\n",
    "french_vocab_size = french_vocab_size_seq2seq\n",
    "\n",
    "\n",
    "encoder_inputs = Input(shape=input_shape[1:])\n",
    "encoder_embedder = Embedding(input_dim = english_vocab_size,\n",
    "                             output_dim = latent_dimension,\n",
    "                             trainable= True)\n",
    "encoder_embeddings = encoder_embedder(encoder_inputs)\n",
    "encoder_lstm = Bidirectional(LSTM(units = latent_dimension, return_state=True))\n",
    "h_f_h_b,h_f, c_f, h_b, c_b = encoder_lstm(encoder_embeddings)\n",
    "\n",
    "encoder_states = [h_f, h_b]\n",
    "# encoder_states = [encoder_last_state_hidden]\n",
    "print(encoder_states[0].shape)\n",
    "decoder_inputs = Input(shape=(output_sequence_length[1],))\n",
    "decoder_embedder = Embedding(input_dim = french_vocab_size,\n",
    "                             output_dim = latent_dimension,\n",
    "                             trainable= True)\n",
    "decoder_embeddings = decoder_embedder(decoder_inputs)\n",
    "decoder_lstm = LSTM(latent_dimension, return_sequences=True, return_state=True)\n",
    "decoder_outputs, decoder_output_last_hidden, decoder_output_last_cell = \\\n",
    "                                decoder_lstm(decoder_embeddings,\n",
    "                                             initial_state=encoder_states)\n",
    "\n",
    "decoder_dense = Dense(french_vocab_size, activation='softmax')\n",
    "decoder_outputs_prob = decoder_dense(decoder_outputs)\n",
    "seq2seq_bi_model = Model([encoder_inputs, decoder_inputs], decoder_outputs_prob)\n",
    "\n",
    "\n",
    "seq2seq_bi_model.compile(loss=sparse_categorical_crossentropy,\n",
    "                  optimizer=Adam(learning_rate),\n",
    "                  metrics=['accuracy'])\n",
    "\n",
    "\n",
    "# tests.test_model_final(seq2seq_bi_model)\n",
    "\n",
    "\n",
    "seq2seq_bi_model.summary(line_length=200)\n",
    "\n",
    "seq2seq_bi_model.fit([preproc_english_sentences_seq2seq, decoder_input_sequence],\n",
    "                 decoder_output_sequence.reshape(*decoder_output_sequence.shape, 1),\n",
    "                 batch_size=1024,\n",
    "                 epochs=40,\n",
    "                 validation_split=0.2)\n",
    "\n",
    "# seq2seq_bi_model.save('seq2seq_bi_lstm.h5')  # creates a HDF5 file 'my_model.h5'\n",
    "# seq2seq_bi_model = load_model('seq2seq_bi_lstm.h5')\n",
    "\n",
    "print('Final Model Loaded')\n",
    "# TODO: Train the final model"
   ]
  },
  {
   "cell_type": "code",
   "execution_count": 31,
   "metadata": {},
   "outputs": [],
   "source": [
    "# seq2seq_bi_model = load_model('seq2seq_bi_lstm.h5')\n",
    "encoder_model = Model(encoder_inputs, [h_f_h_b ,h_f , c_f, h_b, c_b])\n",
    "\n",
    "decoder_state_input_h = Input(shape=(latent_dimension,))\n",
    "decoder_state_input_c = Input(shape=(latent_dimension,))\n",
    "decoder_states_inputs = [decoder_state_input_h, decoder_state_input_c]\n",
    "\n",
    "decoder_outputs, decoder_state_out_h, decoder_state_out_c = decoder_lstm(\n",
    "    decoder_embeddings, initial_state=decoder_states_inputs)\n",
    "decoder_outputs_prob = decoder_dense(decoder_outputs)\n",
    "\n",
    "decoder_inferences = Model([decoder_inputs,  decoder_state_input_h, decoder_state_input_c],\n",
    "                           [decoder_state_out_h, decoder_state_out_c, decoder_outputs_prob])"
   ]
  },
  {
   "cell_type": "code",
   "execution_count": 32,
   "metadata": {},
   "outputs": [],
   "source": [
    "def predict(input_seq):\n",
    "    input_seq = input_seq.reshape(1, *input_seq.shape)\n",
    "    output_seq = list()\n",
    "    target_seq = np.zeros((1, max_french_sequence_length_seq2seq-1), dtype=int)\n",
    "    target_seq[0, 0] = french_tokenizer_seq2seq.word_index['<start>']\n",
    "    output_seq.append(french_tokenizer_seq2seq.word_index['<start>'])\n",
    "    _, h_encoder, _, c_encoder, _ = encoder_model.predict(input_seq)\n",
    "    h, c, probabilities = decoder_inferences.predict([target_seq, h_encoder, c_encoder])\n",
    "    prediction = int(np.argmax(probabilities[0,0,:]))\n",
    "    output_seq.append(prediction)\n",
    "    prediction_counter = 0\n",
    "    while prediction not in [3,0]:\n",
    "        prediction_counter += 1\n",
    "        target_seq[0, prediction_counter] = prediction\n",
    "        h, c, probabilities = decoder_inferences.predict([target_seq, h_encoder, c_encoder])\n",
    "        prediction = int(np.argmax(probabilities[0,prediction_counter,:]))\n",
    "        output_seq.append(prediction)\n",
    "    return output_seq"
   ]
  },
  {
   "cell_type": "markdown",
   "metadata": {},
   "source": [
    "# Model does not pass \n",
    "This model surpringly does not pass the class criteria. I did not fine tune it, and suspect it might perform better with more parameters and dropout. "
   ]
  },
  {
   "cell_type": "code",
   "execution_count": 33,
   "metadata": {},
   "outputs": [
    {
     "data": {
      "text/plain": [
       "'il a vu un petit camion rouge'"
      ]
     },
     "execution_count": 33,
     "metadata": {},
     "output_type": "execute_result"
    }
   ],
   "source": [
    "sentence = \"he saw a old yellow truck\"\n",
    "sentence_validation(sentence, english_tokenizer_seq2seq, french_tokenizer_seq2seq)    "
   ]
  },
  {
   "cell_type": "code",
   "execution_count": 35,
   "metadata": {},
   "outputs": [
    {
     "name": "stdout",
     "output_type": "stream",
     "text": [
      "predicted  : new jersey est parfois calme au cours de l' automne et il est généralement froid en mai <end>\n",
      "groundtruth: new jersey est parfois calme pendant l' automne et il est neigeux en avril <end> <PAD> <PAD> <PAD> <PAD> <PAD> <PAD> <PAD>\n"
     ]
    }
   ],
   "source": [
    "validation([0])   "
   ]
  },
  {
   "cell_type": "markdown",
   "metadata": {},
   "source": [
    "# LSTM Based - Mimicking Attention \n",
    "my mentor shared with me the [encoder_decoder](https://machinelearningmastery.com/encoder-decoder-models-text-summarization-keras/) which for a good part motivated me to try another LSTM based model that does not generate variable length prediction, but has access to the output of the encoder in all of its cells. This mimicks the attention mechanism behavior in which we have access to the context in each cell, but unlike attention, the weights assigned to the context are not a function of the decoder LSTM hidden state. The advantage of this model is that it fits inside the framework of the jupyter notebook, and i can call the predict method directly on it to evaluate its performance. Overall i found sticking to the framework of this notebook difficult, if we wanted to implement a more complex model. \n",
    "\n",
    "I exprimented with different initial decoder state, including not having any initial states. I got the best performance with the configuration below, but i cannot justify why. \n",
    "\n",
    "todo: i need to figure out how the initial state and the input tensors shapes compatbillity works. I can only feed 2 of the: h_fowrward, c_foward, h_backward, c_backward, into the initial state. "
   ]
  },
  {
   "cell_type": "code",
   "execution_count": 59,
   "metadata": {},
   "outputs": [
    {
     "name": "stdout",
     "output_type": "stream",
     "text": [
      "________________________________________________________________________________________________________________________________________________________________________________________________________\n",
      "Layer (type)                                                      Output Shape                                Param #                 Connected to                                                      \n",
      "========================================================================================================================================================================================================\n",
      "input_41 (InputLayer)                                             (None, 15)                                  0                                                                                         \n",
      "________________________________________________________________________________________________________________________________________________________________________________________________________\n",
      "embedding_37 (Embedding)                                          (None, 15, 256)                             50944                   input_41[0][0]                                                    \n",
      "________________________________________________________________________________________________________________________________________________________________________________________________________\n",
      "bidirectional_33 (Bidirectional)                                  [(None, 512), (None, 256), (None, 256), (No 1050624                 embedding_37[0][0]                                                \n",
      "________________________________________________________________________________________________________________________________________________________________________________________________________\n",
      "concatenate_32 (Concatenate)                                      (None, 1024)                                0                       bidirectional_33[0][1]                                            \n",
      "                                                                                                                                      bidirectional_33[0][2]                                            \n",
      "                                                                                                                                      bidirectional_33[0][3]                                            \n",
      "                                                                                                                                      bidirectional_33[0][4]                                            \n",
      "________________________________________________________________________________________________________________________________________________________________________________________________________\n",
      "repeat_vector_22 (RepeatVector)                                   (None, 21, 1024)                            0                       concatenate_32[0][0]                                              \n",
      "________________________________________________________________________________________________________________________________________________________________________________________________________\n",
      "lstm_58 (LSTM)                                                    (None, 21, 256)                             1311744                 repeat_vector_22[0][0]                                            \n",
      "                                                                                                                                      bidirectional_33[0][1]                                            \n",
      "                                                                                                                                      bidirectional_33[0][2]                                            \n",
      "________________________________________________________________________________________________________________________________________________________________________________________________________\n",
      "time_distributed_19 (TimeDistributed)                             (None, 21, 344)                             88408                   lstm_58[0][0]                                                     \n",
      "========================================================================================================================================================================================================\n",
      "Total params: 2,501,720\n",
      "Trainable params: 2,501,720\n",
      "Non-trainable params: 0\n",
      "________________________________________________________________________________________________________________________________________________________________________________________________________\n",
      "Train on 110288 samples, validate on 27573 samples\n",
      "Epoch 1/40\n",
      "110288/110288 [==============================] - 20s 179us/step - loss: 2.6818 - acc: 0.4673 - val_loss: nan - val_acc: 0.5587\n",
      "Epoch 2/40\n",
      "110288/110288 [==============================] - 9s 86us/step - loss: 1.6386 - acc: 0.5880 - val_loss: nan - val_acc: 0.6260\n",
      "Epoch 3/40\n",
      "110288/110288 [==============================] - 10s 87us/step - loss: 1.3036 - acc: 0.6565 - val_loss: nan - val_acc: 0.6761\n",
      "Epoch 4/40\n",
      "110288/110288 [==============================] - 10s 88us/step - loss: 1.1049 - acc: 0.6974 - val_loss: nan - val_acc: 0.7184\n",
      "Epoch 5/40\n",
      "110288/110288 [==============================] - 9s 86us/step - loss: 0.9620 - acc: 0.7293 - val_loss: nan - val_acc: 0.7432\n",
      "Epoch 6/40\n",
      "110288/110288 [==============================] - 10s 87us/step - loss: 0.8452 - acc: 0.7585 - val_loss: nan - val_acc: 0.7759\n",
      "Epoch 7/40\n",
      "110288/110288 [==============================] - 10s 87us/step - loss: 0.7247 - acc: 0.7918 - val_loss: nan - val_acc: 0.8078\n",
      "Epoch 8/40\n",
      "110288/110288 [==============================] - 10s 88us/step - loss: 0.6211 - acc: 0.8212 - val_loss: nan - val_acc: 0.8368\n",
      "Epoch 9/40\n",
      "110288/110288 [==============================] - 10s 88us/step - loss: 0.5335 - acc: 0.8476 - val_loss: nan - val_acc: 0.8617\n",
      "Epoch 10/40\n",
      "110288/110288 [==============================] - 9s 86us/step - loss: 0.4432 - acc: 0.8775 - val_loss: nan - val_acc: 0.8916\n",
      "Epoch 11/40\n",
      "110288/110288 [==============================] - 10s 86us/step - loss: 0.3753 - acc: 0.8987 - val_loss: nan - val_acc: 0.9062\n",
      "Epoch 12/40\n",
      "110288/110288 [==============================] - 10s 89us/step - loss: 0.3112 - acc: 0.9184 - val_loss: nan - val_acc: 0.9251\n",
      "Epoch 13/40\n",
      "110288/110288 [==============================] - 10s 90us/step - loss: 0.2695 - acc: 0.9296 - val_loss: nan - val_acc: 0.9323\n",
      "Epoch 14/40\n",
      "110288/110288 [==============================] - 10s 90us/step - loss: 0.2295 - acc: 0.9406 - val_loss: nan - val_acc: 0.9394\n",
      "Epoch 15/40\n",
      "110288/110288 [==============================] - 10s 87us/step - loss: 0.2038 - acc: 0.9466 - val_loss: nan - val_acc: 0.9469\n",
      "Epoch 16/40\n",
      "110288/110288 [==============================] - 9s 86us/step - loss: 0.1910 - acc: 0.9489 - val_loss: nan - val_acc: 0.9493\n",
      "Epoch 17/40\n",
      "110288/110288 [==============================] - 9s 86us/step - loss: 0.1772 - acc: 0.9520 - val_loss: nan - val_acc: 0.8952\n",
      "Epoch 18/40\n",
      "110288/110288 [==============================] - 10s 88us/step - loss: 0.1686 - acc: 0.9539 - val_loss: nan - val_acc: 0.9580\n",
      "Epoch 19/40\n",
      "110288/110288 [==============================] - 10s 88us/step - loss: 0.1312 - acc: 0.9651 - val_loss: nan - val_acc: 0.9613\n",
      "Epoch 20/40\n",
      "110288/110288 [==============================] - 10s 87us/step - loss: 0.1237 - acc: 0.9666 - val_loss: nan - val_acc: 0.9646\n",
      "Epoch 21/40\n",
      "110288/110288 [==============================] - 10s 88us/step - loss: 0.1147 - acc: 0.9689 - val_loss: nan - val_acc: 0.9661\n",
      "Epoch 22/40\n",
      "110288/110288 [==============================] - 9s 86us/step - loss: 0.1070 - acc: 0.9709 - val_loss: nan - val_acc: 0.9657\n",
      "Epoch 23/40\n",
      "110288/110288 [==============================] - 10s 87us/step - loss: 0.1034 - acc: 0.9717 - val_loss: nan - val_acc: 0.9655\n",
      "Epoch 24/40\n",
      "110288/110288 [==============================] - 9s 86us/step - loss: 0.0987 - acc: 0.9726 - val_loss: nan - val_acc: 0.9694\n",
      "Epoch 25/40\n",
      "110288/110288 [==============================] - 9s 86us/step - loss: 0.0888 - acc: 0.9759 - val_loss: nan - val_acc: 0.9707\n",
      "Epoch 26/40\n"
     ]
    },
    {
     "name": "stdout",
     "output_type": "stream",
     "text": [
      "110288/110288 [==============================] - 10s 88us/step - loss: 0.0826 - acc: 0.9773 - val_loss: nan - val_acc: 0.9736\n",
      "Epoch 27/40\n",
      "110288/110288 [==============================] - 10s 89us/step - loss: 0.0768 - acc: 0.9790 - val_loss: nan - val_acc: 0.9726\n",
      "Epoch 28/40\n",
      "110288/110288 [==============================] - 10s 87us/step - loss: 0.0756 - acc: 0.9793 - val_loss: nan - val_acc: 0.9678\n",
      "Epoch 29/40\n",
      "110288/110288 [==============================] - 9s 86us/step - loss: 0.0726 - acc: 0.9799 - val_loss: nan - val_acc: 0.9743\n",
      "Epoch 30/40\n",
      "110288/110288 [==============================] - 9s 86us/step - loss: 0.0667 - acc: 0.9816 - val_loss: nan - val_acc: 0.9752\n",
      "Epoch 31/40\n",
      "110288/110288 [==============================] - 9s 86us/step - loss: 0.0626 - acc: 0.9827 - val_loss: nan - val_acc: 0.9753\n",
      "Epoch 32/40\n",
      "110288/110288 [==============================] - 10s 90us/step - loss: 0.0567 - acc: 0.9844 - val_loss: nan - val_acc: 0.9760\n",
      "Epoch 33/40\n",
      "110288/110288 [==============================] - 10s 88us/step - loss: 0.0554 - acc: 0.9847 - val_loss: nan - val_acc: 0.9728\n",
      "Epoch 34/40\n",
      "110288/110288 [==============================] - 10s 88us/step - loss: 0.0831 - acc: 0.9767 - val_loss: nan - val_acc: 0.9733\n",
      "Epoch 35/40\n",
      "110288/110288 [==============================] - 10s 86us/step - loss: 0.0522 - acc: 0.9856 - val_loss: nan - val_acc: 0.9779\n",
      "Epoch 36/40\n",
      "110288/110288 [==============================] - 10s 89us/step - loss: 0.0459 - acc: 0.9874 - val_loss: nan - val_acc: 0.9765\n",
      "Epoch 37/40\n",
      "110288/110288 [==============================] - 10s 89us/step - loss: 0.1035 - acc: 0.9718 - val_loss: nan - val_acc: 0.9561\n",
      "Epoch 38/40\n",
      "110288/110288 [==============================] - 10s 87us/step - loss: 0.0700 - acc: 0.9806 - val_loss: nan - val_acc: 0.9776\n",
      "Epoch 39/40\n",
      "110288/110288 [==============================] - 10s 86us/step - loss: 0.0468 - acc: 0.9875 - val_loss: nan - val_acc: 0.9786\n",
      "Epoch 40/40\n",
      "110288/110288 [==============================] - 10s 88us/step - loss: 0.0399 - acc: 0.9892 - val_loss: nan - val_acc: 0.9797\n"
     ]
    },
    {
     "data": {
      "text/plain": [
       "<keras.callbacks.History at 0x7ef8f6e0df28>"
      ]
     },
     "execution_count": 59,
     "metadata": {},
     "output_type": "execute_result"
    }
   ],
   "source": [
    "from keras.layers import Bidirectional, Concatenate, concatenate, Dense, TimeDistributed, RepeatVector\n",
    "\n",
    "def mimi_att_mod(input_shape, output_sequence_length, english_vocab_size, french_vocab_size):\n",
    "    learning_rate = 1e-3    \n",
    "    latent_dimension = 128*2\n",
    "    encoder_inputs = Input(shape=input_shape[1:])\n",
    "    encoder_embedder = Embedding(input_dim = english_vocab_size,\n",
    "                                 output_dim = latent_dimension,\n",
    "                                 trainable= True)\n",
    "    encoder_embeddings = encoder_embedder(encoder_inputs)\n",
    "    encoder_lstm = Bidirectional(LSTM(units = latent_dimension, return_state=True))\n",
    "    h_f_h_b, h_fowrward, c_foward, h_backward, c_backward = encoder_lstm(encoder_embeddings)\n",
    "    encoder_final_emb = concatenate([h_fowrward, c_foward, h_backward, c_backward])\n",
    "    encoder_final_state = [h_fowrward, c_foward]\n",
    "    \n",
    "    encoding_summary = RepeatVector(output_sequence_length)(encoder_final_emb)\n",
    "    decoder_lstm_mimi = LSTM(units = latent_dimension, return_sequences=True, return_state=False)\n",
    "    decoder_lstm_output = decoder_lstm_mimi(encoding_summary, initial_state=encoder_final_state)\n",
    "    decoder_output_mimi = TimeDistributed(Dense(french_vocab_size, activation='softmax'))(decoder_lstm_output)\n",
    "\n",
    "    mimi_att_model = Model(encoder_inputs, decoder_output_mimi)\n",
    "    \n",
    "    mimi_att_model.compile(loss=sparse_categorical_crossentropy,\n",
    "                  optimizer=Adam(learning_rate),\n",
    "                  metrics=['accuracy'])\n",
    "\n",
    "\n",
    "    return mimi_att_model\n",
    "\n",
    "tests.test_embed_model(mimi_att_mod)\n",
    "\n",
    "\n",
    "tmp_x_padded = pad(preproc_english_sentences, preproc_english_sentences.shape[1])\n",
    "\n",
    "mimi_att_model = mimi_att_mod(tmp_x_padded.shape,\n",
    "                    max_french_sequence_length,\n",
    "                    english_vocab_size,\n",
    "                    french_vocab_size)\n",
    "\n",
    "\n",
    "mimi_att_model.summary(line_length=200)\n",
    "# bd_rnn_model.summary()\n",
    "\n",
    "mimi_att_model.fit(tmp_x_padded, preproc_french_sentences, batch_size=1024, epochs=40, validation_split=0.2)\n",
    "\n",
    "# mimi_att_model.save('mimi_att_model.h5')  # creates a HDF5 file 'my_model.h5'\n",
    "# mimi_att_model = load_model('mimi_att_model.h5')"
   ]
  },
  {
   "cell_type": "code",
   "execution_count": 61,
   "metadata": {},
   "outputs": [
    {
     "name": "stdout",
     "output_type": "stream",
     "text": [
      "Sample 1:\n",
      "il a vu un vieux camion jaune <PAD> <PAD> <PAD> <PAD> <PAD> <PAD> <PAD> <PAD> <PAD> <PAD> <PAD> <PAD> <PAD> <PAD>\n",
      "Il a vu un vieux camion jaune\n",
      "Sample 2:\n",
      "new jersey est parfois calme pendant l' automne et il est neigeux en avril <PAD> <PAD> <PAD> <PAD> <PAD> <PAD> <PAD>\n",
      "new jersey est parfois calme pendant l' automne et il est neigeux en avril <PAD> <PAD> <PAD> <PAD> <PAD> <PAD> <PAD>\n"
     ]
    }
   ],
   "source": [
    "def final_predictions(x, y, x_tk, y_tk):\n",
    "    \"\"\"\n",
    "    Gets predictions using the final model\n",
    "    :param x: Preprocessed English data\n",
    "    :param y: Preprocessed French data\n",
    "    :param x_tk: English tokenizer\n",
    "    :param y_tk: French tokenizer\n",
    "    \"\"\"\n",
    "    # TODO: Train neural network using model_final\n",
    "    model = mimi_att_model\n",
    "    \n",
    "    ## DON'T EDIT ANYTHING BELOW THIS LINE\n",
    "    y_id_to_word = {value: key for key, value in y_tk.word_index.items()}\n",
    "    y_id_to_word[0] = '<PAD>'\n",
    "\n",
    "    sentence = 'he saw a old yellow truck'\n",
    "    sentence = [x_tk.word_index[word] for word in sentence.split()]\n",
    "    sentence = pad_sequences([sentence], maxlen=x.shape[-1], padding='post')\n",
    "    sentences = np.array([sentence[0], x[0]])\n",
    "    predictions = model.predict(sentences, len(sentences))\n",
    "\n",
    "    print('Sample 1:')\n",
    "    print(' '.join([y_id_to_word[np.argmax(x)] for x in predictions[0]]))\n",
    "    print('Il a vu un vieux camion jaune')\n",
    "    print('Sample 2:')\n",
    "    print(' '.join([y_id_to_word[np.argmax(x)] for x in predictions[1]]))\n",
    "    print(' '.join([y_id_to_word[np.max(x)] for x in y[0]]))\n",
    "\n",
    "final_predictions(preproc_english_sentences, preproc_french_sentences, english_tokenizer, french_tokenizer)"
   ]
  },
  {
   "cell_type": "markdown",
   "metadata": {},
   "source": [
    "## Submission\n",
    "When you're ready to submit, complete the following steps:\n",
    "1. Review the [rubric](https://review.udacity.com/#!/rubrics/1004/view) to ensure your submission meets all requirements to pass\n",
    "2. Generate an HTML version of this notebook\n",
    "\n",
    "  - Run the next cell to attempt automatic generation (this is the recommended method in Workspaces)\n",
    "  - Navigate to **FILE -> Download as -> HTML (.html)**\n",
    "  - Manually generate a copy using `nbconvert` from your shell terminal\n",
    "```\n",
    "$ pip install nbconvert\n",
    "$ python -m nbconvert machine_translation.ipynb\n",
    "```\n",
    "  \n",
    "3. Submit the project\n",
    "\n",
    "  - If you are in a Workspace, simply click the \"Submit Project\" button (bottom towards the right)\n",
    "  \n",
    "  - Otherwise, add the following files into a zip archive and submit them \n",
    "  - `helper.py`\n",
    "  - `machine_translation.ipynb`\n",
    "  - `machine_translation.html`\n",
    "    - You can export the notebook by navigating to **File -> Download as -> HTML (.html)**."
   ]
  },
  {
   "cell_type": "markdown",
   "metadata": {},
   "source": [
    "### Generate the html\n",
    "\n",
    "**Save your notebook before running the next cell to generate the HTML output.** Then submit your project."
   ]
  },
  {
   "cell_type": "code",
   "execution_count": null,
   "metadata": {},
   "outputs": [],
   "source": [
    "# Save before you run this cell!\n",
    "!!jupyter nbconvert *.ipynb"
   ]
  },
  {
   "cell_type": "markdown",
   "metadata": {},
   "source": [
    "## Optional Enhancements\n",
    "\n",
    "This project focuses on learning various network architectures for machine translation, but we don't evaluate the models according to best practices by splitting the data into separate test & training sets -- so the model accuracy is overstated. Use the [`sklearn.model_selection.train_test_split()`](http://scikit-learn.org/stable/modules/generated/sklearn.model_selection.train_test_split.html) function to create separate training & test datasets, then retrain each of the models using only the training set and evaluate the prediction accuracy using the hold out test set. Does the \"best\" model change?"
   ]
  }
 ],
 "metadata": {
  "kernelspec": {
   "display_name": "Python 3",
   "language": "python",
   "name": "python3"
  },
  "language_info": {
   "codemirror_mode": {
    "name": "ipython",
    "version": 3
   },
   "file_extension": ".py",
   "mimetype": "text/x-python",
   "name": "python",
   "nbconvert_exporter": "python",
   "pygments_lexer": "ipython3",
   "version": "3.6.8"
  }
 },
 "nbformat": 4,
 "nbformat_minor": 1
}
